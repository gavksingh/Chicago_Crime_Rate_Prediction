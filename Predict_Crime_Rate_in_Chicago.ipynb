{
  "cells": [
    {
      "cell_type": "markdown",
      "metadata": {
        "colab_type": "text",
        "id": "Fus0TqcAyKwP"
      },
      "source": [
        "# Prediction of Crime Rate in Chicago\n",
        "**Author** : Gaurav Kumar Singh\n",
        "\n",
        "**Environment** : Google Colab Notebook\n",
        "\n",
        "\n",
        "\n"
      ]
    },
    {
      "cell_type": "markdown",
      "metadata": {
        "colab_type": "text",
        "id": "Cw-L1URZyKwQ"
      },
      "source": [
        "PROBLEM STATEMENT"
      ]
    },
    {
      "cell_type": "markdown",
      "metadata": {
        "colab_type": "text",
        "id": "C7bZigc5yKwS"
      },
      "source": [
        "## Chicago Crime Dataset Overview\n",
        "\n",
        "**Dataset Summary**\n",
        "\n",
        "- **Data Source**: Chicago Police Department's CLEAR (Citizen Law Enforcement Analysis and Reporting) system.\n",
        "- **Time Period**: 2001 to 2017\n",
        "\n",
        "**Columns in the Dataset**\n",
        "\n",
        "1. **ID**: Unique identifier for each record.\n",
        "2. **Case Number**: RD Number (Records Division Number) assigned by the Chicago Police Department for each incident.\n",
        "3. **Date**: Date of the incident.\n",
        "4. **Block**: Address where the incident occurred.\n",
        "5. **IUCR**: Illinois Uniform Crime Reporting code.\n",
        "6. **Primary Type**: Primary description corresponding to the IUCR code.\n",
        "7. **Description**: Secondary description providing additional details about the IUCR code, acting as a subcategory of the primary description.\n",
        "8. **Location Description**: Description of the location where the incident took place.\n",
        "9. **Arrest**: Indicator of whether an arrest was made in connection with the incident.\n",
        "10. **Domestic**: Indicator of whether the incident was domestic-related, as defined by the Illinois Domestic Violence Act.\n",
        "11. **Beat**: Specific police beat where the incident occurred. A beat is the smallest geographic area assigned to a dedicated police patrol car.\n",
        "12. **District**: The police district where the incident took place.\n",
        "13. **Ward**: The ward (City Council district) corresponding to the location of the incident.\n",
        "14. **Community Area**: The community area where the incident occurred. Chicago is divided into 77 such areas.\n",
        "15. **FBI Code**: Classification code for the type of crime, following the FBI's National Incident-Based Reporting System (NIBRS).\n",
        "16. **X Coordinate**: The x-coordinate of the incident location using the State Plane Illinois East NAD 1983 projection.\n",
        "17. **Y Coordinate**: The y-coordinate of the incident location using the State Plane Illinois East NAD 1983 projection.\n",
        "18. **Year**: The year in which the incident occurred.\n",
        "19. **Updated On**: Date and time when the record was last updated.\n",
        "20. **Latitude**: Latitude of the incident location, with adjusted data for privacy and security while retaining the same block.\n",
        "21. **Longitude**: Longitude of the incident location, also adjusted for privacy and security while remaining within the same block.\n",
        "22. **Location**: Geographic coordinates of the incident location, formatted for mapping and other geographic operations, with privacy adjustments similar to latitude and longitude.\n",
        "\n",
        "**Data Source**\n",
        "- You can access the dataset from Kaggle: [Chicago Crime Dataset](https://www.kaggle.com/currie32/crimes-in-chicago)\n",
        "\n",
        "This structured format provides a clear overview of the Chicago Crime dataset, making it easier to understand.\n",
        "\n",
        "## Data Source\n",
        "\n",
        "**Dataset Access**: You can download the dataset from Kaggle using the following link:\n",
        "[Chicago Crime Dataset](https://www.kaggle.com/currie32/crimes-in-chicago)\n"
      ]
    },
    {
      "cell_type": "markdown",
      "metadata": {
        "colab_type": "text",
        "id": "RIoIUtjKWv9l"
      },
      "source": [
        "# About Facebook Prophet"
      ]
    },
    {
      "cell_type": "markdown",
      "metadata": {
        "colab_type": "text",
        "id": "U4WZGCCbyKwS"
      },
      "source": [
        "## About Prophet\n",
        "\n",
        "**Prophet** is an open-source software developed by Facebook's Core Data Science team for time series forecasting.\n",
        "\n",
        "Prophet employs an additive model to forecast time series data. This model accommodates non-linear trends and includes components for yearly, weekly, and daily seasonality, along with the incorporation of holiday effects when applicable.\n",
        "\n",
        "This forecasting tool is particularly well-suited for time series data that exhibits strong seasonal patterns and has a substantial historical data record.\n",
        "\n",
        "For more in-depth information, you can visit the official resources:\n",
        "- [Prophet at Facebook Research](https://research.fb.com/prophet-forecasting-at-scale/)\n",
        "- [Prophet Documentation - Python API](https://facebook.github.io/prophet/docs/quick_start.html#python-api)\n"
      ]
    },
    {
      "cell_type": "markdown",
      "metadata": {
        "colab_type": "text",
        "id": "Ti2Wsw9WyKwT"
      },
      "source": [
        "# Importing the Libraries and Dataset"
      ]
    },
    {
      "cell_type": "code",
      "execution_count": null,
      "metadata": {
        "colab": {
          "base_uri": "https://localhost:8080/",
          "height": 72
        },
        "colab_type": "code",
        "id": "ZiN4a37IyKwU",
        "outputId": "8fb2f62b-c3ee-4ade-f28a-f814f0fd38de"
      },
      "outputs": [
        {
          "name": "stderr",
          "output_type": "stream",
          "text": [
            "/usr/local/lib/python3.6/dist-packages/statsmodels/tools/_testing.py:19: FutureWarning: pandas.util.testing is deprecated. Use the functions in the public API at pandas.testing instead.\n",
            "  import pandas.util.testing as tm\n"
          ]
        }
      ],
      "source": [
        "import pandas as pd \n",
        "import numpy as np \n",
        "import matplotlib.pyplot as plt\n",
        "import random\n",
        "import seaborn as sns\n",
        "from fbprophet import Prophet"
      ]
    },
    {
      "cell_type": "code",
      "execution_count": null,
      "metadata": {
        "colab": {
          "base_uri": "https://localhost:8080/",
          "height": 55
        },
        "colab_type": "code",
        "id": "KqxYG93mfzMr",
        "outputId": "b97f11d5-7a16-4e09-8600-9f76acd5b88a"
      },
      "outputs": [
        {
          "name": "stdout",
          "output_type": "stream",
          "text": [
            "Drive already mounted at /content/drive; to attempt to forcibly remount, call drive.mount(\"/content/drive\", force_remount=True).\n"
          ]
        }
      ],
      "source": [
        "# Mounting Google Drive in a Colab Notebook\n",
        "from google.colab import drive\n",
        "drive.mount('/content/drive')\n"
      ]
    },
    {
      "cell_type": "code",
      "execution_count": null,
      "metadata": {
        "colab": {
          "base_uri": "https://localhost:8080/",
          "height": 52
        },
        "colab_type": "code",
        "id": "UjmNZMU8yKwY",
        "outputId": "ff6274c3-0a5f-419a-f87b-9407721b8e87"
      },
      "outputs": [
        {
          "name": "stderr",
          "output_type": "stream",
          "text": [
            "b'Skipping line 533719: expected 23 fields, saw 24\\n'\n",
            "b'Skipping line 1149094: expected 23 fields, saw 41\\n'\n"
          ]
        }
      ],
      "source": [
        "# Reading CSV files into DataFrames while ignoring rows with errors\n",
        "chicago_df_1 = pd.read_csv('/content/drive/My Drive/Chicago_Crimes_2005_to_2007.csv', error_bad_lines=False)\n",
        "chicago_df_2 = pd.read_csv('/content/drive/My Drive/Chicago_Crimes_2008_to_2011.csv', error_bad_lines=False)\n",
        "chicago_df_3 = pd.read_csv('/content/drive/My Drive/Chicago_Crimes_2012_to_2017.csv', error_bad_lines=False)\n"
      ]
    },
    {
      "cell_type": "code",
      "execution_count": null,
      "metadata": {
        "colab": {},
        "colab_type": "code",
        "id": "3ZKkWivOyKwe"
      },
      "outputs": [],
      "source": [
        "#concatenating all the datasets together\n",
        "chicago_df = pd.concat([chicago_df_1, chicago_df_2, chicago_df_3], ignore_index=False, axis=0)"
      ]
    },
    {
      "cell_type": "code",
      "execution_count": null,
      "metadata": {
        "colab": {
          "base_uri": "https://localhost:8080/",
          "height": 35
        },
        "colab_type": "code",
        "id": "pTYl52n1g_vS",
        "outputId": "fc775643-3dff-45b4-9b22-3f2f21e5384e"
      },
      "outputs": [
        {
          "data": {
            "text/plain": [
              "(6017767, 23)"
            ]
          },
          "execution_count": 5,
          "metadata": {
            "tags": []
          },
          "output_type": "execute_result"
        }
      ],
      "source": [
        "chicago_df.shape"
      ]
    },
    {
      "cell_type": "markdown",
      "metadata": {
        "colab_type": "text",
        "id": "PUKt6gm-yKwh"
      },
      "source": [
        "# Exploring the Dataset"
      ]
    },
    {
      "cell_type": "code",
      "execution_count": null,
      "metadata": {
        "colab": {
          "base_uri": "https://localhost:8080/",
          "height": 413
        },
        "colab_type": "code",
        "id": "GJ2yF59ZyKwi",
        "outputId": "e2e1a584-8a22-4f27-b8b8-dd2275fa00a8"
      },
      "outputs": [
        {
          "data": {
            "text/html": [
              "<div>\n",
              "<style scoped>\n",
              "    .dataframe tbody tr th:only-of-type {\n",
              "        vertical-align: middle;\n",
              "    }\n",
              "\n",
              "    .dataframe tbody tr th {\n",
              "        vertical-align: top;\n",
              "    }\n",
              "\n",
              "    .dataframe thead th {\n",
              "        text-align: right;\n",
              "    }\n",
              "</style>\n",
              "<table border=\"1\" class=\"dataframe\">\n",
              "  <thead>\n",
              "    <tr style=\"text-align: right;\">\n",
              "      <th></th>\n",
              "      <th>Unnamed: 0</th>\n",
              "      <th>ID</th>\n",
              "      <th>Case Number</th>\n",
              "      <th>Date</th>\n",
              "      <th>Block</th>\n",
              "      <th>IUCR</th>\n",
              "      <th>Primary Type</th>\n",
              "      <th>Description</th>\n",
              "      <th>Location Description</th>\n",
              "      <th>Arrest</th>\n",
              "      <th>Domestic</th>\n",
              "      <th>Beat</th>\n",
              "      <th>District</th>\n",
              "      <th>Ward</th>\n",
              "      <th>Community Area</th>\n",
              "      <th>FBI Code</th>\n",
              "      <th>X Coordinate</th>\n",
              "      <th>Y Coordinate</th>\n",
              "      <th>Year</th>\n",
              "      <th>Updated On</th>\n",
              "      <th>Latitude</th>\n",
              "      <th>Longitude</th>\n",
              "      <th>Location</th>\n",
              "    </tr>\n",
              "  </thead>\n",
              "  <tbody>\n",
              "    <tr>\n",
              "      <th>0</th>\n",
              "      <td>0</td>\n",
              "      <td>4673626</td>\n",
              "      <td>HM274058</td>\n",
              "      <td>04/02/2006 01:00:00 PM</td>\n",
              "      <td>055XX N MANGO AVE</td>\n",
              "      <td>2825</td>\n",
              "      <td>OTHER OFFENSE</td>\n",
              "      <td>HARASSMENT BY TELEPHONE</td>\n",
              "      <td>RESIDENCE</td>\n",
              "      <td>False</td>\n",
              "      <td>False</td>\n",
              "      <td>1622</td>\n",
              "      <td>16.0</td>\n",
              "      <td>45.0</td>\n",
              "      <td>11.0</td>\n",
              "      <td>26</td>\n",
              "      <td>1136872.0</td>\n",
              "      <td>1936499.0</td>\n",
              "      <td>2006</td>\n",
              "      <td>04/15/2016 08:55:02 AM</td>\n",
              "      <td>41.981913</td>\n",
              "      <td>-87.771996</td>\n",
              "      <td>(41.981912692, -87.771996382)</td>\n",
              "    </tr>\n",
              "    <tr>\n",
              "      <th>1</th>\n",
              "      <td>1</td>\n",
              "      <td>4673627</td>\n",
              "      <td>HM202199</td>\n",
              "      <td>02/26/2006 01:40:48 PM</td>\n",
              "      <td>065XX S RHODES AVE</td>\n",
              "      <td>2017</td>\n",
              "      <td>NARCOTICS</td>\n",
              "      <td>MANU/DELIVER:CRACK</td>\n",
              "      <td>SIDEWALK</td>\n",
              "      <td>True</td>\n",
              "      <td>False</td>\n",
              "      <td>321</td>\n",
              "      <td>3.0</td>\n",
              "      <td>20.0</td>\n",
              "      <td>42.0</td>\n",
              "      <td>18</td>\n",
              "      <td>1181027.0</td>\n",
              "      <td>1861693.0</td>\n",
              "      <td>2006</td>\n",
              "      <td>04/15/2016 08:55:02 AM</td>\n",
              "      <td>41.775733</td>\n",
              "      <td>-87.611920</td>\n",
              "      <td>(41.775732538, -87.611919814)</td>\n",
              "    </tr>\n",
              "    <tr>\n",
              "      <th>2</th>\n",
              "      <td>2</td>\n",
              "      <td>4673628</td>\n",
              "      <td>HM113861</td>\n",
              "      <td>01/08/2006 11:16:00 PM</td>\n",
              "      <td>013XX E 69TH ST</td>\n",
              "      <td>051A</td>\n",
              "      <td>ASSAULT</td>\n",
              "      <td>AGGRAVATED: HANDGUN</td>\n",
              "      <td>OTHER</td>\n",
              "      <td>False</td>\n",
              "      <td>False</td>\n",
              "      <td>321</td>\n",
              "      <td>3.0</td>\n",
              "      <td>5.0</td>\n",
              "      <td>69.0</td>\n",
              "      <td>04A</td>\n",
              "      <td>1186023.0</td>\n",
              "      <td>1859609.0</td>\n",
              "      <td>2006</td>\n",
              "      <td>04/15/2016 08:55:02 AM</td>\n",
              "      <td>41.769897</td>\n",
              "      <td>-87.593671</td>\n",
              "      <td>(41.769897392, -87.593670899)</td>\n",
              "    </tr>\n",
              "    <tr>\n",
              "      <th>3</th>\n",
              "      <td>4</td>\n",
              "      <td>4673629</td>\n",
              "      <td>HM274049</td>\n",
              "      <td>04/05/2006 06:45:00 PM</td>\n",
              "      <td>061XX W NEWPORT AVE</td>\n",
              "      <td>0460</td>\n",
              "      <td>BATTERY</td>\n",
              "      <td>SIMPLE</td>\n",
              "      <td>RESIDENCE</td>\n",
              "      <td>False</td>\n",
              "      <td>False</td>\n",
              "      <td>1633</td>\n",
              "      <td>16.0</td>\n",
              "      <td>38.0</td>\n",
              "      <td>17.0</td>\n",
              "      <td>08B</td>\n",
              "      <td>1134772.0</td>\n",
              "      <td>1922299.0</td>\n",
              "      <td>2006</td>\n",
              "      <td>04/15/2016 08:55:02 AM</td>\n",
              "      <td>41.942984</td>\n",
              "      <td>-87.780057</td>\n",
              "      <td>(41.942984005, -87.780056951)</td>\n",
              "    </tr>\n",
              "    <tr>\n",
              "      <th>4</th>\n",
              "      <td>5</td>\n",
              "      <td>4673630</td>\n",
              "      <td>HM187120</td>\n",
              "      <td>02/17/2006 09:03:14 PM</td>\n",
              "      <td>037XX W 60TH ST</td>\n",
              "      <td>1811</td>\n",
              "      <td>NARCOTICS</td>\n",
              "      <td>POSS: CANNABIS 30GMS OR LESS</td>\n",
              "      <td>ALLEY</td>\n",
              "      <td>True</td>\n",
              "      <td>False</td>\n",
              "      <td>822</td>\n",
              "      <td>8.0</td>\n",
              "      <td>13.0</td>\n",
              "      <td>65.0</td>\n",
              "      <td>18</td>\n",
              "      <td>1152412.0</td>\n",
              "      <td>1864560.0</td>\n",
              "      <td>2006</td>\n",
              "      <td>04/15/2016 08:55:02 AM</td>\n",
              "      <td>41.784211</td>\n",
              "      <td>-87.716745</td>\n",
              "      <td>(41.784210853, -87.71674491)</td>\n",
              "    </tr>\n",
              "  </tbody>\n",
              "</table>\n",
              "</div>"
            ],
            "text/plain": [
              "   Unnamed: 0       ID  ...  Longitude                       Location\n",
              "0           0  4673626  ... -87.771996  (41.981912692, -87.771996382)\n",
              "1           1  4673627  ... -87.611920  (41.775732538, -87.611919814)\n",
              "2           2  4673628  ... -87.593671  (41.769897392, -87.593670899)\n",
              "3           4  4673629  ... -87.780057  (41.942984005, -87.780056951)\n",
              "4           5  4673630  ... -87.716745   (41.784210853, -87.71674491)\n",
              "\n",
              "[5 rows x 23 columns]"
            ]
          },
          "execution_count": 6,
          "metadata": {
            "tags": []
          },
          "output_type": "execute_result"
        }
      ],
      "source": [
        "chicago_df.head()"
      ]
    },
    {
      "cell_type": "code",
      "execution_count": null,
      "metadata": {
        "colab": {
          "base_uri": "https://localhost:8080/",
          "height": 1000
        },
        "colab_type": "code",
        "id": "nQ5AmCG_yKwn",
        "outputId": "6a601698-be5f-4916-e875-bdc51c05a209"
      },
      "outputs": [
        {
          "data": {
            "text/html": [
              "<div>\n",
              "<style scoped>\n",
              "    .dataframe tbody tr th:only-of-type {\n",
              "        vertical-align: middle;\n",
              "    }\n",
              "\n",
              "    .dataframe tbody tr th {\n",
              "        vertical-align: top;\n",
              "    }\n",
              "\n",
              "    .dataframe thead th {\n",
              "        text-align: right;\n",
              "    }\n",
              "</style>\n",
              "<table border=\"1\" class=\"dataframe\">\n",
              "  <thead>\n",
              "    <tr style=\"text-align: right;\">\n",
              "      <th></th>\n",
              "      <th>Unnamed: 0</th>\n",
              "      <th>ID</th>\n",
              "      <th>Case Number</th>\n",
              "      <th>Date</th>\n",
              "      <th>Block</th>\n",
              "      <th>IUCR</th>\n",
              "      <th>Primary Type</th>\n",
              "      <th>Description</th>\n",
              "      <th>Location Description</th>\n",
              "      <th>Arrest</th>\n",
              "      <th>Domestic</th>\n",
              "      <th>Beat</th>\n",
              "      <th>District</th>\n",
              "      <th>Ward</th>\n",
              "      <th>Community Area</th>\n",
              "      <th>FBI Code</th>\n",
              "      <th>X Coordinate</th>\n",
              "      <th>Y Coordinate</th>\n",
              "      <th>Year</th>\n",
              "      <th>Updated On</th>\n",
              "      <th>Latitude</th>\n",
              "      <th>Longitude</th>\n",
              "      <th>Location</th>\n",
              "    </tr>\n",
              "  </thead>\n",
              "  <tbody>\n",
              "    <tr>\n",
              "      <th>1456694</th>\n",
              "      <td>6246478</td>\n",
              "      <td>10508650</td>\n",
              "      <td>HZ250022</td>\n",
              "      <td>05/03/2016 05:00:00 PM</td>\n",
              "      <td>078XX S MARSHFIELD AVE</td>\n",
              "      <td>031A</td>\n",
              "      <td>ROBBERY</td>\n",
              "      <td>ARMED: HANDGUN</td>\n",
              "      <td>STREET</td>\n",
              "      <td>False</td>\n",
              "      <td>False</td>\n",
              "      <td>611</td>\n",
              "      <td>6.0</td>\n",
              "      <td>17.0</td>\n",
              "      <td>71.0</td>\n",
              "      <td>03</td>\n",
              "      <td>1166708.0</td>\n",
              "      <td>1852625.0</td>\n",
              "      <td>2016</td>\n",
              "      <td>05/10/2016 03:56:50 PM</td>\n",
              "      <td>41.751166</td>\n",
              "      <td>-87.664670</td>\n",
              "      <td>(41.751166357, -87.664670209)</td>\n",
              "    </tr>\n",
              "    <tr>\n",
              "      <th>1456695</th>\n",
              "      <td>6246521</td>\n",
              "      <td>10508653</td>\n",
              "      <td>HZ250512</td>\n",
              "      <td>05/03/2016 11:58:00 PM</td>\n",
              "      <td>026XX W LE MOYNE ST</td>\n",
              "      <td>0520</td>\n",
              "      <td>ASSAULT</td>\n",
              "      <td>AGGRAVATED:KNIFE/CUTTING INSTR</td>\n",
              "      <td>RESIDENTIAL YARD (FRONT/BACK)</td>\n",
              "      <td>True</td>\n",
              "      <td>False</td>\n",
              "      <td>1423</td>\n",
              "      <td>14.0</td>\n",
              "      <td>26.0</td>\n",
              "      <td>24.0</td>\n",
              "      <td>04A</td>\n",
              "      <td>1158381.0</td>\n",
              "      <td>1909870.0</td>\n",
              "      <td>2016</td>\n",
              "      <td>05/10/2016 03:56:50 PM</td>\n",
              "      <td>41.908427</td>\n",
              "      <td>-87.693623</td>\n",
              "      <td>(41.908426978, -87.693622615)</td>\n",
              "    </tr>\n",
              "    <tr>\n",
              "      <th>1456696</th>\n",
              "      <td>6247563</td>\n",
              "      <td>10508656</td>\n",
              "      <td>HZ250476</td>\n",
              "      <td>05/03/2016 03:15:00 PM</td>\n",
              "      <td>014XX N OGDEN AVE</td>\n",
              "      <td>1720</td>\n",
              "      <td>OFFENSE INVOLVING CHILDREN</td>\n",
              "      <td>CONTRIBUTE DELINQUENCY OF A CHILD</td>\n",
              "      <td>STREET</td>\n",
              "      <td>False</td>\n",
              "      <td>True</td>\n",
              "      <td>1822</td>\n",
              "      <td>18.0</td>\n",
              "      <td>27.0</td>\n",
              "      <td>8.0</td>\n",
              "      <td>20</td>\n",
              "      <td>1171322.0</td>\n",
              "      <td>1909588.0</td>\n",
              "      <td>2016</td>\n",
              "      <td>05/10/2016 03:56:50 PM</td>\n",
              "      <td>41.907378</td>\n",
              "      <td>-87.646092</td>\n",
              "      <td>(41.907378476, -87.64609233)</td>\n",
              "    </tr>\n",
              "    <tr>\n",
              "      <th>1456697</th>\n",
              "      <td>6247798</td>\n",
              "      <td>10508658</td>\n",
              "      <td>HZ250506</td>\n",
              "      <td>05/03/2016 11:50:00 PM</td>\n",
              "      <td>018XX S KEDZIE AVE</td>\n",
              "      <td>4625</td>\n",
              "      <td>OTHER OFFENSE</td>\n",
              "      <td>PAROLE VIOLATION</td>\n",
              "      <td>STREET</td>\n",
              "      <td>True</td>\n",
              "      <td>False</td>\n",
              "      <td>1022</td>\n",
              "      <td>10.0</td>\n",
              "      <td>24.0</td>\n",
              "      <td>29.0</td>\n",
              "      <td>26</td>\n",
              "      <td>1155317.0</td>\n",
              "      <td>1890928.0</td>\n",
              "      <td>2016</td>\n",
              "      <td>05/10/2016 03:56:50 PM</td>\n",
              "      <td>41.856510</td>\n",
              "      <td>-87.705387</td>\n",
              "      <td>(41.856510401, -87.705387422)</td>\n",
              "    </tr>\n",
              "    <tr>\n",
              "      <th>1456698</th>\n",
              "      <td>6248016</td>\n",
              "      <td>10508659</td>\n",
              "      <td>HZ250499</td>\n",
              "      <td>05/03/2016 11:38:00 PM</td>\n",
              "      <td>038XX S PRINCETON AVE</td>\n",
              "      <td>0460</td>\n",
              "      <td>BATTERY</td>\n",
              "      <td>SIMPLE</td>\n",
              "      <td>CHA PARKING LOT/GROUNDS</td>\n",
              "      <td>False</td>\n",
              "      <td>False</td>\n",
              "      <td>915</td>\n",
              "      <td>9.0</td>\n",
              "      <td>3.0</td>\n",
              "      <td>34.0</td>\n",
              "      <td>08B</td>\n",
              "      <td>1174922.0</td>\n",
              "      <td>1879297.0</td>\n",
              "      <td>2016</td>\n",
              "      <td>05/10/2016 03:56:50 PM</td>\n",
              "      <td>41.824178</td>\n",
              "      <td>-87.633775</td>\n",
              "      <td>(41.82417802, -87.6337748)</td>\n",
              "    </tr>\n",
              "    <tr>\n",
              "      <th>1456699</th>\n",
              "      <td>6248192</td>\n",
              "      <td>10508661</td>\n",
              "      <td>HZ250344</td>\n",
              "      <td>05/03/2016 08:44:00 PM</td>\n",
              "      <td>070XX S WABASH AVE</td>\n",
              "      <td>041A</td>\n",
              "      <td>BATTERY</td>\n",
              "      <td>AGGRAVATED: HANDGUN</td>\n",
              "      <td>STREET</td>\n",
              "      <td>False</td>\n",
              "      <td>False</td>\n",
              "      <td>322</td>\n",
              "      <td>3.0</td>\n",
              "      <td>6.0</td>\n",
              "      <td>69.0</td>\n",
              "      <td>04B</td>\n",
              "      <td>1177941.0</td>\n",
              "      <td>1858411.0</td>\n",
              "      <td>2016</td>\n",
              "      <td>05/10/2016 03:56:50 PM</td>\n",
              "      <td>41.766797</td>\n",
              "      <td>-87.623332</td>\n",
              "      <td>(41.766796861, -87.623332025)</td>\n",
              "    </tr>\n",
              "    <tr>\n",
              "      <th>1456700</th>\n",
              "      <td>6248278</td>\n",
              "      <td>10508662</td>\n",
              "      <td>HZ250477</td>\n",
              "      <td>05/03/2016 08:00:00 AM</td>\n",
              "      <td>057XX S MICHIGAN AVE</td>\n",
              "      <td>5001</td>\n",
              "      <td>OTHER OFFENSE</td>\n",
              "      <td>OTHER CRIME INVOLVING PROPERTY</td>\n",
              "      <td>APARTMENT</td>\n",
              "      <td>False</td>\n",
              "      <td>False</td>\n",
              "      <td>232</td>\n",
              "      <td>2.0</td>\n",
              "      <td>20.0</td>\n",
              "      <td>40.0</td>\n",
              "      <td>26</td>\n",
              "      <td>1178135.0</td>\n",
              "      <td>1867058.0</td>\n",
              "      <td>2016</td>\n",
              "      <td>05/10/2016 03:56:50 PM</td>\n",
              "      <td>41.790521</td>\n",
              "      <td>-87.622359</td>\n",
              "      <td>(41.790520722, -87.622358898)</td>\n",
              "    </tr>\n",
              "    <tr>\n",
              "      <th>1456701</th>\n",
              "      <td>6248713</td>\n",
              "      <td>10508663</td>\n",
              "      <td>HZ250466</td>\n",
              "      <td>05/03/2016 10:10:00 PM</td>\n",
              "      <td>033XX W MARQUETTE RD</td>\n",
              "      <td>1563</td>\n",
              "      <td>SEX OFFENSE</td>\n",
              "      <td>CRIMINAL SEXUAL ABUSE</td>\n",
              "      <td>APARTMENT</td>\n",
              "      <td>False</td>\n",
              "      <td>False</td>\n",
              "      <td>831</td>\n",
              "      <td>8.0</td>\n",
              "      <td>15.0</td>\n",
              "      <td>66.0</td>\n",
              "      <td>17</td>\n",
              "      <td>1155359.0</td>\n",
              "      <td>1859995.0</td>\n",
              "      <td>2016</td>\n",
              "      <td>05/10/2016 03:56:50 PM</td>\n",
              "      <td>41.771625</td>\n",
              "      <td>-87.706062</td>\n",
              "      <td>(41.771625308, -87.706062047)</td>\n",
              "    </tr>\n",
              "    <tr>\n",
              "      <th>1456702</th>\n",
              "      <td>6248779</td>\n",
              "      <td>10508664</td>\n",
              "      <td>HZ250486</td>\n",
              "      <td>05/03/2016 11:35:00 PM</td>\n",
              "      <td>083XX S CARPENTER ST</td>\n",
              "      <td>0560</td>\n",
              "      <td>ASSAULT</td>\n",
              "      <td>SIMPLE</td>\n",
              "      <td>RESIDENCE</td>\n",
              "      <td>True</td>\n",
              "      <td>True</td>\n",
              "      <td>613</td>\n",
              "      <td>6.0</td>\n",
              "      <td>21.0</td>\n",
              "      <td>71.0</td>\n",
              "      <td>08A</td>\n",
              "      <td>1170770.0</td>\n",
              "      <td>1849485.0</td>\n",
              "      <td>2016</td>\n",
              "      <td>05/10/2016 03:56:50 PM</td>\n",
              "      <td>41.742462</td>\n",
              "      <td>-87.649876</td>\n",
              "      <td>(41.742462184, -87.649876395)</td>\n",
              "    </tr>\n",
              "    <tr>\n",
              "      <th>1456703</th>\n",
              "      <td>6248999</td>\n",
              "      <td>10508665</td>\n",
              "      <td>HZ250448</td>\n",
              "      <td>05/03/2016 10:15:00 PM</td>\n",
              "      <td>095XX S LOOMIS ST</td>\n",
              "      <td>1310</td>\n",
              "      <td>CRIMINAL DAMAGE</td>\n",
              "      <td>TO PROPERTY</td>\n",
              "      <td>RESIDENCE</td>\n",
              "      <td>False</td>\n",
              "      <td>True</td>\n",
              "      <td>2213</td>\n",
              "      <td>22.0</td>\n",
              "      <td>21.0</td>\n",
              "      <td>73.0</td>\n",
              "      <td>14</td>\n",
              "      <td>1168707.0</td>\n",
              "      <td>1841343.0</td>\n",
              "      <td>2016</td>\n",
              "      <td>05/10/2016 03:56:50 PM</td>\n",
              "      <td>41.720164</td>\n",
              "      <td>-87.657669</td>\n",
              "      <td>(41.720164061, -87.657669427)</td>\n",
              "    </tr>\n",
              "    <tr>\n",
              "      <th>1456704</th>\n",
              "      <td>6249417</td>\n",
              "      <td>10508666</td>\n",
              "      <td>HZ250497</td>\n",
              "      <td>05/03/2016 11:30:00 PM</td>\n",
              "      <td>053XX S PULASKI RD</td>\n",
              "      <td>0320</td>\n",
              "      <td>ROBBERY</td>\n",
              "      <td>STRONGARM - NO WEAPON</td>\n",
              "      <td>SIDEWALK</td>\n",
              "      <td>False</td>\n",
              "      <td>False</td>\n",
              "      <td>815</td>\n",
              "      <td>8.0</td>\n",
              "      <td>23.0</td>\n",
              "      <td>62.0</td>\n",
              "      <td>03</td>\n",
              "      <td>1150606.0</td>\n",
              "      <td>1868988.0</td>\n",
              "      <td>2016</td>\n",
              "      <td>05/10/2016 03:56:50 PM</td>\n",
              "      <td>41.796397</td>\n",
              "      <td>-87.723251</td>\n",
              "      <td>(41.79639731, -87.723251281)</td>\n",
              "    </tr>\n",
              "    <tr>\n",
              "      <th>1456705</th>\n",
              "      <td>6249592</td>\n",
              "      <td>10508671</td>\n",
              "      <td>HZ250526</td>\n",
              "      <td>05/03/2016 11:50:00 PM</td>\n",
              "      <td>036XX E 106TH ST</td>\n",
              "      <td>502P</td>\n",
              "      <td>OTHER OFFENSE</td>\n",
              "      <td>FALSE/STOLEN/ALTERED TRP</td>\n",
              "      <td>ALLEY</td>\n",
              "      <td>True</td>\n",
              "      <td>False</td>\n",
              "      <td>432</td>\n",
              "      <td>4.0</td>\n",
              "      <td>10.0</td>\n",
              "      <td>52.0</td>\n",
              "      <td>26</td>\n",
              "      <td>1202327.0</td>\n",
              "      <td>1835278.0</td>\n",
              "      <td>2016</td>\n",
              "      <td>05/10/2016 03:56:50 PM</td>\n",
              "      <td>41.702731</td>\n",
              "      <td>-87.534736</td>\n",
              "      <td>(41.702731182, -87.534736413)</td>\n",
              "    </tr>\n",
              "    <tr>\n",
              "      <th>1456706</th>\n",
              "      <td>6249615</td>\n",
              "      <td>10508672</td>\n",
              "      <td>HZ250441</td>\n",
              "      <td>05/03/2016 10:25:00 PM</td>\n",
              "      <td>071XX S MOZART ST</td>\n",
              "      <td>0460</td>\n",
              "      <td>BATTERY</td>\n",
              "      <td>SIMPLE</td>\n",
              "      <td>SIDEWALK</td>\n",
              "      <td>True</td>\n",
              "      <td>False</td>\n",
              "      <td>831</td>\n",
              "      <td>8.0</td>\n",
              "      <td>18.0</td>\n",
              "      <td>66.0</td>\n",
              "      <td>08B</td>\n",
              "      <td>1158610.0</td>\n",
              "      <td>1857066.0</td>\n",
              "      <td>2016</td>\n",
              "      <td>05/10/2016 03:56:50 PM</td>\n",
              "      <td>41.763522</td>\n",
              "      <td>-87.694225</td>\n",
              "      <td>(41.763522012, -87.69422464)</td>\n",
              "    </tr>\n",
              "    <tr>\n",
              "      <th>1456707</th>\n",
              "      <td>6249936</td>\n",
              "      <td>10508675</td>\n",
              "      <td>HZ250502</td>\n",
              "      <td>05/03/2016 11:00:00 PM</td>\n",
              "      <td>085XX S MAY ST</td>\n",
              "      <td>0320</td>\n",
              "      <td>ROBBERY</td>\n",
              "      <td>STRONGARM - NO WEAPON</td>\n",
              "      <td>SIDEWALK</td>\n",
              "      <td>False</td>\n",
              "      <td>False</td>\n",
              "      <td>613</td>\n",
              "      <td>6.0</td>\n",
              "      <td>21.0</td>\n",
              "      <td>71.0</td>\n",
              "      <td>03</td>\n",
              "      <td>1170146.0</td>\n",
              "      <td>1848113.0</td>\n",
              "      <td>2016</td>\n",
              "      <td>05/10/2016 03:56:50 PM</td>\n",
              "      <td>41.738711</td>\n",
              "      <td>-87.652203</td>\n",
              "      <td>(41.738710803, -87.652202523)</td>\n",
              "    </tr>\n",
              "    <tr>\n",
              "      <th>1456708</th>\n",
              "      <td>6250154</td>\n",
              "      <td>10508678</td>\n",
              "      <td>HZ250481</td>\n",
              "      <td>05/03/2016 11:28:00 PM</td>\n",
              "      <td>088XX S LAFLIN ST</td>\n",
              "      <td>041A</td>\n",
              "      <td>BATTERY</td>\n",
              "      <td>AGGRAVATED: HANDGUN</td>\n",
              "      <td>STREET</td>\n",
              "      <td>False</td>\n",
              "      <td>False</td>\n",
              "      <td>2221</td>\n",
              "      <td>22.0</td>\n",
              "      <td>21.0</td>\n",
              "      <td>71.0</td>\n",
              "      <td>04B</td>\n",
              "      <td>1167880.0</td>\n",
              "      <td>1846134.0</td>\n",
              "      <td>2016</td>\n",
              "      <td>05/10/2016 03:56:50 PM</td>\n",
              "      <td>41.733329</td>\n",
              "      <td>-87.660561</td>\n",
              "      <td>(41.733329054, -87.660561367)</td>\n",
              "    </tr>\n",
              "    <tr>\n",
              "      <th>1456709</th>\n",
              "      <td>6250330</td>\n",
              "      <td>10508679</td>\n",
              "      <td>HZ250507</td>\n",
              "      <td>05/03/2016 11:33:00 PM</td>\n",
              "      <td>026XX W 23RD PL</td>\n",
              "      <td>0486</td>\n",
              "      <td>BATTERY</td>\n",
              "      <td>DOMESTIC BATTERY SIMPLE</td>\n",
              "      <td>APARTMENT</td>\n",
              "      <td>True</td>\n",
              "      <td>True</td>\n",
              "      <td>1034</td>\n",
              "      <td>10.0</td>\n",
              "      <td>28.0</td>\n",
              "      <td>30.0</td>\n",
              "      <td>08B</td>\n",
              "      <td>1159105.0</td>\n",
              "      <td>1888300.0</td>\n",
              "      <td>2016</td>\n",
              "      <td>05/10/2016 03:56:50 PM</td>\n",
              "      <td>41.849222</td>\n",
              "      <td>-87.691556</td>\n",
              "      <td>(41.849222028, -87.69155551)</td>\n",
              "    </tr>\n",
              "    <tr>\n",
              "      <th>1456710</th>\n",
              "      <td>6251089</td>\n",
              "      <td>10508680</td>\n",
              "      <td>HZ250491</td>\n",
              "      <td>05/03/2016 11:30:00 PM</td>\n",
              "      <td>073XX S HARVARD AVE</td>\n",
              "      <td>1310</td>\n",
              "      <td>CRIMINAL DAMAGE</td>\n",
              "      <td>TO PROPERTY</td>\n",
              "      <td>APARTMENT</td>\n",
              "      <td>True</td>\n",
              "      <td>True</td>\n",
              "      <td>731</td>\n",
              "      <td>7.0</td>\n",
              "      <td>17.0</td>\n",
              "      <td>69.0</td>\n",
              "      <td>14</td>\n",
              "      <td>1175230.0</td>\n",
              "      <td>1856183.0</td>\n",
              "      <td>2016</td>\n",
              "      <td>05/10/2016 03:56:50 PM</td>\n",
              "      <td>41.760744</td>\n",
              "      <td>-87.633335</td>\n",
              "      <td>(41.760743949, -87.63333531)</td>\n",
              "    </tr>\n",
              "    <tr>\n",
              "      <th>1456711</th>\n",
              "      <td>6251349</td>\n",
              "      <td>10508681</td>\n",
              "      <td>HZ250479</td>\n",
              "      <td>05/03/2016 12:15:00 AM</td>\n",
              "      <td>024XX W 63RD ST</td>\n",
              "      <td>041A</td>\n",
              "      <td>BATTERY</td>\n",
              "      <td>AGGRAVATED: HANDGUN</td>\n",
              "      <td>SIDEWALK</td>\n",
              "      <td>False</td>\n",
              "      <td>False</td>\n",
              "      <td>825</td>\n",
              "      <td>8.0</td>\n",
              "      <td>15.0</td>\n",
              "      <td>66.0</td>\n",
              "      <td>04B</td>\n",
              "      <td>1161027.0</td>\n",
              "      <td>1862810.0</td>\n",
              "      <td>2016</td>\n",
              "      <td>05/10/2016 03:56:50 PM</td>\n",
              "      <td>41.779235</td>\n",
              "      <td>-87.685207</td>\n",
              "      <td>(41.779234743, -87.685207125)</td>\n",
              "    </tr>\n",
              "    <tr>\n",
              "      <th>1456712</th>\n",
              "      <td>6253257</td>\n",
              "      <td>10508690</td>\n",
              "      <td>HZ250370</td>\n",
              "      <td>05/03/2016 09:07:00 PM</td>\n",
              "      <td>082XX S EXCHANGE AVE</td>\n",
              "      <td>0486</td>\n",
              "      <td>BATTERY</td>\n",
              "      <td>DOMESTIC BATTERY SIMPLE</td>\n",
              "      <td>SIDEWALK</td>\n",
              "      <td>False</td>\n",
              "      <td>True</td>\n",
              "      <td>423</td>\n",
              "      <td>4.0</td>\n",
              "      <td>7.0</td>\n",
              "      <td>46.0</td>\n",
              "      <td>08B</td>\n",
              "      <td>1197261.0</td>\n",
              "      <td>1850727.0</td>\n",
              "      <td>2016</td>\n",
              "      <td>05/10/2016 03:56:50 PM</td>\n",
              "      <td>41.745252</td>\n",
              "      <td>-87.552773</td>\n",
              "      <td>(41.745251975, -87.552773464)</td>\n",
              "    </tr>\n",
              "    <tr>\n",
              "      <th>1456713</th>\n",
              "      <td>6253474</td>\n",
              "      <td>10508692</td>\n",
              "      <td>HZ250517</td>\n",
              "      <td>05/03/2016 11:38:00 PM</td>\n",
              "      <td>001XX E 75TH ST</td>\n",
              "      <td>5007</td>\n",
              "      <td>OTHER OFFENSE</td>\n",
              "      <td>OTHER WEAPONS VIOLATION</td>\n",
              "      <td>PARKING LOT/GARAGE(NON.RESID.)</td>\n",
              "      <td>True</td>\n",
              "      <td>False</td>\n",
              "      <td>323</td>\n",
              "      <td>3.0</td>\n",
              "      <td>6.0</td>\n",
              "      <td>69.0</td>\n",
              "      <td>26</td>\n",
              "      <td>1178696.0</td>\n",
              "      <td>1855324.0</td>\n",
              "      <td>2016</td>\n",
              "      <td>05/10/2016 03:56:50 PM</td>\n",
              "      <td>41.758309</td>\n",
              "      <td>-87.620658</td>\n",
              "      <td>(41.75830866, -87.620658418)</td>\n",
              "    </tr>\n",
              "  </tbody>\n",
              "</table>\n",
              "</div>"
            ],
            "text/plain": [
              "         Unnamed: 0        ID  ...  Longitude                       Location\n",
              "1456694     6246478  10508650  ... -87.664670  (41.751166357, -87.664670209)\n",
              "1456695     6246521  10508653  ... -87.693623  (41.908426978, -87.693622615)\n",
              "1456696     6247563  10508656  ... -87.646092   (41.907378476, -87.64609233)\n",
              "1456697     6247798  10508658  ... -87.705387  (41.856510401, -87.705387422)\n",
              "1456698     6248016  10508659  ... -87.633775     (41.82417802, -87.6337748)\n",
              "1456699     6248192  10508661  ... -87.623332  (41.766796861, -87.623332025)\n",
              "1456700     6248278  10508662  ... -87.622359  (41.790520722, -87.622358898)\n",
              "1456701     6248713  10508663  ... -87.706062  (41.771625308, -87.706062047)\n",
              "1456702     6248779  10508664  ... -87.649876  (41.742462184, -87.649876395)\n",
              "1456703     6248999  10508665  ... -87.657669  (41.720164061, -87.657669427)\n",
              "1456704     6249417  10508666  ... -87.723251   (41.79639731, -87.723251281)\n",
              "1456705     6249592  10508671  ... -87.534736  (41.702731182, -87.534736413)\n",
              "1456706     6249615  10508672  ... -87.694225   (41.763522012, -87.69422464)\n",
              "1456707     6249936  10508675  ... -87.652203  (41.738710803, -87.652202523)\n",
              "1456708     6250154  10508678  ... -87.660561  (41.733329054, -87.660561367)\n",
              "1456709     6250330  10508679  ... -87.691556   (41.849222028, -87.69155551)\n",
              "1456710     6251089  10508680  ... -87.633335   (41.760743949, -87.63333531)\n",
              "1456711     6251349  10508681  ... -87.685207  (41.779234743, -87.685207125)\n",
              "1456712     6253257  10508690  ... -87.552773  (41.745251975, -87.552773464)\n",
              "1456713     6253474  10508692  ... -87.620658   (41.75830866, -87.620658418)\n",
              "\n",
              "[20 rows x 23 columns]"
            ]
          },
          "execution_count": 7,
          "metadata": {
            "tags": []
          },
          "output_type": "execute_result"
        }
      ],
      "source": [
        "chicago_df.tail(20)"
      ]
    },
    {
      "cell_type": "code",
      "execution_count": null,
      "metadata": {
        "colab": {
          "base_uri": "https://localhost:8080/",
          "height": 706
        },
        "colab_type": "code",
        "id": "udaFYUa-yKwp",
        "outputId": "40899e83-31bd-435e-b076-1cac8ab8a030"
      },
      "outputs": [
        {
          "data": {
            "text/plain": [
              "<matplotlib.axes._subplots.AxesSubplot at 0x7fe39f099940>"
            ]
          },
          "execution_count": 8,
          "metadata": {
            "tags": []
          },
          "output_type": "execute_result"
        },
        {
          "data": {
            "image/png": "[encoded data removed]",
            "text/plain": [
              "<Figure size 720x720 with 1 Axes>"
            ]
          },
          "metadata": {
            "tags": []
          },
          "output_type": "display_data"
        }
      ],
      "source": [
        "# Visualizing and observing the null elements in the dataset\n",
        "plt.figure(figsize=(10, 10))  # Set the figure size for the heatmap\n",
        "sns.heatmap(chicago_df.isnull(), cbar=False, cmap='YlGnBu')\n",
        "\n"
      ]
    },
    {
      "cell_type": "code",
      "execution_count": null,
      "metadata": {
        "colab": {},
        "colab_type": "code",
        "id": "X-YR0qQMyKww"
      },
      "outputs": [],
      "source": [
        "# Dropping the specified columns from the DataFrame 'chicago_df'\n",
        "chicago_df.drop(['Unnamed: 0', 'Case Number', 'IUCR', 'X Coordinate', 'Y Coordinate', 'Updated On', 'Year', 'FBI Code', 'Beat', 'Ward', 'Community Area', 'Location', 'District', 'Latitude', 'Longitude'], inplace=True, axis=1)"
      ]
    },
    {
      "cell_type": "code",
      "execution_count": null,
      "metadata": {
        "colab": {
          "base_uri": "https://localhost:8080/",
          "height": 799
        },
        "colab_type": "code",
        "id": "U9cdmE7GyKwz",
        "outputId": "76318596-e54b-4f38-8e17-603a7d42cee8"
      },
      "outputs": [
        {
          "data": {
            "text/html": [
              "<div>\n",
              "<style scoped>\n",
              "    .dataframe tbody tr th:only-of-type {\n",
              "        vertical-align: middle;\n",
              "    }\n",
              "\n",
              "    .dataframe tbody tr th {\n",
              "        vertical-align: top;\n",
              "    }\n",
              "\n",
              "    .dataframe thead th {\n",
              "        text-align: right;\n",
              "    }\n",
              "</style>\n",
              "<table border=\"1\" class=\"dataframe\">\n",
              "  <thead>\n",
              "    <tr style=\"text-align: right;\">\n",
              "      <th></th>\n",
              "      <th>ID</th>\n",
              "      <th>Date</th>\n",
              "      <th>Block</th>\n",
              "      <th>Primary Type</th>\n",
              "      <th>Description</th>\n",
              "      <th>Location Description</th>\n",
              "      <th>Arrest</th>\n",
              "      <th>Domestic</th>\n",
              "    </tr>\n",
              "  </thead>\n",
              "  <tbody>\n",
              "    <tr>\n",
              "      <th>0</th>\n",
              "      <td>4673626</td>\n",
              "      <td>04/02/2006 01:00:00 PM</td>\n",
              "      <td>055XX N MANGO AVE</td>\n",
              "      <td>OTHER OFFENSE</td>\n",
              "      <td>HARASSMENT BY TELEPHONE</td>\n",
              "      <td>RESIDENCE</td>\n",
              "      <td>False</td>\n",
              "      <td>False</td>\n",
              "    </tr>\n",
              "    <tr>\n",
              "      <th>1</th>\n",
              "      <td>4673627</td>\n",
              "      <td>02/26/2006 01:40:48 PM</td>\n",
              "      <td>065XX S RHODES AVE</td>\n",
              "      <td>NARCOTICS</td>\n",
              "      <td>MANU/DELIVER:CRACK</td>\n",
              "      <td>SIDEWALK</td>\n",
              "      <td>True</td>\n",
              "      <td>False</td>\n",
              "    </tr>\n",
              "    <tr>\n",
              "      <th>2</th>\n",
              "      <td>4673628</td>\n",
              "      <td>01/08/2006 11:16:00 PM</td>\n",
              "      <td>013XX E 69TH ST</td>\n",
              "      <td>ASSAULT</td>\n",
              "      <td>AGGRAVATED: HANDGUN</td>\n",
              "      <td>OTHER</td>\n",
              "      <td>False</td>\n",
              "      <td>False</td>\n",
              "    </tr>\n",
              "    <tr>\n",
              "      <th>3</th>\n",
              "      <td>4673629</td>\n",
              "      <td>04/05/2006 06:45:00 PM</td>\n",
              "      <td>061XX W NEWPORT AVE</td>\n",
              "      <td>BATTERY</td>\n",
              "      <td>SIMPLE</td>\n",
              "      <td>RESIDENCE</td>\n",
              "      <td>False</td>\n",
              "      <td>False</td>\n",
              "    </tr>\n",
              "    <tr>\n",
              "      <th>4</th>\n",
              "      <td>4673630</td>\n",
              "      <td>02/17/2006 09:03:14 PM</td>\n",
              "      <td>037XX W 60TH ST</td>\n",
              "      <td>NARCOTICS</td>\n",
              "      <td>POSS: CANNABIS 30GMS OR LESS</td>\n",
              "      <td>ALLEY</td>\n",
              "      <td>True</td>\n",
              "      <td>False</td>\n",
              "    </tr>\n",
              "    <tr>\n",
              "      <th>...</th>\n",
              "      <td>...</td>\n",
              "      <td>...</td>\n",
              "      <td>...</td>\n",
              "      <td>...</td>\n",
              "      <td>...</td>\n",
              "      <td>...</td>\n",
              "      <td>...</td>\n",
              "      <td>...</td>\n",
              "    </tr>\n",
              "    <tr>\n",
              "      <th>1456709</th>\n",
              "      <td>10508679</td>\n",
              "      <td>05/03/2016 11:33:00 PM</td>\n",
              "      <td>026XX W 23RD PL</td>\n",
              "      <td>BATTERY</td>\n",
              "      <td>DOMESTIC BATTERY SIMPLE</td>\n",
              "      <td>APARTMENT</td>\n",
              "      <td>True</td>\n",
              "      <td>True</td>\n",
              "    </tr>\n",
              "    <tr>\n",
              "      <th>1456710</th>\n",
              "      <td>10508680</td>\n",
              "      <td>05/03/2016 11:30:00 PM</td>\n",
              "      <td>073XX S HARVARD AVE</td>\n",
              "      <td>CRIMINAL DAMAGE</td>\n",
              "      <td>TO PROPERTY</td>\n",
              "      <td>APARTMENT</td>\n",
              "      <td>True</td>\n",
              "      <td>True</td>\n",
              "    </tr>\n",
              "    <tr>\n",
              "      <th>1456711</th>\n",
              "      <td>10508681</td>\n",
              "      <td>05/03/2016 12:15:00 AM</td>\n",
              "      <td>024XX W 63RD ST</td>\n",
              "      <td>BATTERY</td>\n",
              "      <td>AGGRAVATED: HANDGUN</td>\n",
              "      <td>SIDEWALK</td>\n",
              "      <td>False</td>\n",
              "      <td>False</td>\n",
              "    </tr>\n",
              "    <tr>\n",
              "      <th>1456712</th>\n",
              "      <td>10508690</td>\n",
              "      <td>05/03/2016 09:07:00 PM</td>\n",
              "      <td>082XX S EXCHANGE AVE</td>\n",
              "      <td>BATTERY</td>\n",
              "      <td>DOMESTIC BATTERY SIMPLE</td>\n",
              "      <td>SIDEWALK</td>\n",
              "      <td>False</td>\n",
              "      <td>True</td>\n",
              "    </tr>\n",
              "    <tr>\n",
              "      <th>1456713</th>\n",
              "      <td>10508692</td>\n",
              "      <td>05/03/2016 11:38:00 PM</td>\n",
              "      <td>001XX E 75TH ST</td>\n",
              "      <td>OTHER OFFENSE</td>\n",
              "      <td>OTHER WEAPONS VIOLATION</td>\n",
              "      <td>PARKING LOT/GARAGE(NON.RESID.)</td>\n",
              "      <td>True</td>\n",
              "      <td>False</td>\n",
              "    </tr>\n",
              "  </tbody>\n",
              "</table>\n",
              "<p>6017767 rows × 8 columns</p>\n",
              "</div>"
            ],
            "text/plain": [
              "               ID                    Date  ... Arrest Domestic\n",
              "0         4673626  04/02/2006 01:00:00 PM  ...  False    False\n",
              "1         4673627  02/26/2006 01:40:48 PM  ...   True    False\n",
              "2         4673628  01/08/2006 11:16:00 PM  ...  False    False\n",
              "3         4673629  04/05/2006 06:45:00 PM  ...  False    False\n",
              "4         4673630  02/17/2006 09:03:14 PM  ...   True    False\n",
              "...           ...                     ...  ...    ...      ...\n",
              "1456709  10508679  05/03/2016 11:33:00 PM  ...   True     True\n",
              "1456710  10508680  05/03/2016 11:30:00 PM  ...   True     True\n",
              "1456711  10508681  05/03/2016 12:15:00 AM  ...  False    False\n",
              "1456712  10508690  05/03/2016 09:07:00 PM  ...  False     True\n",
              "1456713  10508692  05/03/2016 11:38:00 PM  ...   True    False\n",
              "\n",
              "[6017767 rows x 8 columns]"
            ]
          },
          "execution_count": 10,
          "metadata": {
            "tags": []
          },
          "output_type": "execute_result"
        }
      ],
      "source": [
        "chicago_df"
      ]
    },
    {
      "cell_type": "code",
      "execution_count": null,
      "metadata": {
        "colab": {},
        "colab_type": "code",
        "id": "KWYtae4pyKw2"
      },
      "outputs": [],
      "source": [
        "# Assembling a datetime by rearranging the DataFrame column 'Date' and converting it to datetime format\n",
        "chicago_df['Date'] = pd.to_datetime(chicago_df['Date'], format='%m/%d/%Y %I:%M:%S %p')\n"
      ]
    },
    {
      "cell_type": "code",
      "execution_count": null,
      "metadata": {
        "colab": {
          "base_uri": "https://localhost:8080/",
          "height": 225
        },
        "colab_type": "code",
        "id": "2Q1RtpsLyKw5",
        "outputId": "90a2427c-77ed-451e-ba48-0cbf51f4e35c"
      },
      "outputs": [
        {
          "data": {
            "text/plain": [
              "0         2006-04-02 13:00:00\n",
              "1         2006-02-26 13:40:48\n",
              "2         2006-01-08 23:16:00\n",
              "3         2006-04-05 18:45:00\n",
              "4         2006-02-17 21:03:14\n",
              "                  ...        \n",
              "1456709   2016-05-03 23:33:00\n",
              "1456710   2016-05-03 23:30:00\n",
              "1456711   2016-05-03 00:15:00\n",
              "1456712   2016-05-03 21:07:00\n",
              "1456713   2016-05-03 23:38:00\n",
              "Name: Date, Length: 6017767, dtype: datetime64[ns]"
            ]
          },
          "execution_count": 12,
          "metadata": {
            "tags": []
          },
          "output_type": "execute_result"
        }
      ],
      "source": [
        "chicago_df.Date "
      ]
    },
    {
      "cell_type": "code",
      "execution_count": null,
      "metadata": {
        "colab": {},
        "colab_type": "code",
        "id": "xduZfAxOyKw-"
      },
      "outputs": [],
      "source": [
        "# setting the index to be the date-time column \n",
        "chicago_df.index = pd.DatetimeIndex(chicago_df.Date)"
      ]
    },
    {
      "cell_type": "code",
      "execution_count": null,
      "metadata": {
        "colab": {
          "base_uri": "https://localhost:8080/",
          "height": 624
        },
        "colab_type": "code",
        "id": "BOhRBgMinIVr",
        "outputId": "614df437-ea29-44a8-c670-4b26957aed41"
      },
      "outputs": [
        {
          "data": {
            "text/plain": [
              "THEFT                                1245111\n",
              "BATTERY                              1079178\n",
              "CRIMINAL DAMAGE                       702702\n",
              "NARCOTICS                             674831\n",
              "BURGLARY                              369056\n",
              "OTHER OFFENSE                         368169\n",
              "ASSAULT                               360244\n",
              "MOTOR VEHICLE THEFT                   271624\n",
              "ROBBERY                               229467\n",
              "DECEPTIVE PRACTICE                    225180\n",
              "CRIMINAL TRESPASS                     171596\n",
              "PROSTITUTION                           60735\n",
              "WEAPONS VIOLATION                      60335\n",
              "PUBLIC PEACE VIOLATION                 48403\n",
              "OFFENSE INVOLVING CHILDREN             40260\n",
              "CRIM SEXUAL ASSAULT                    22789\n",
              "SEX OFFENSE                            20172\n",
              "GAMBLING                               14755\n",
              "INTERFERENCE WITH PUBLIC OFFICER       14009\n",
              "LIQUOR LAW VIOLATION                   12129\n",
              "ARSON                                   9269\n",
              "HOMICIDE                                5879\n",
              "KIDNAPPING                              4734\n",
              "INTIMIDATION                            3324\n",
              "STALKING                                2866\n",
              "OBSCENITY                                422\n",
              "PUBLIC INDECENCY                         134\n",
              "OTHER NARCOTIC VIOLATION                 122\n",
              "NON-CRIMINAL                              96\n",
              "CONCEALED CARRY LICENSE VIOLATION         90\n",
              "NON - CRIMINAL                            38\n",
              "HUMAN TRAFFICKING                         28\n",
              "RITUALISM                                 16\n",
              "NON-CRIMINAL (SUBJECT SPECIFIED)           4\n",
              "Name: Primary Type, dtype: int64"
            ]
          },
          "execution_count": 14,
          "metadata": {
            "tags": []
          },
          "output_type": "execute_result"
        }
      ],
      "source": [
        "# Counting the Frequency of Categories in the 'Primary Type' Column\n",
        "chicago_df['Primary Type'].value_counts()"
      ]
    },
    {
      "cell_type": "code",
      "execution_count": null,
      "metadata": {
        "colab": {
          "base_uri": "https://localhost:8080/",
          "height": 295
        },
        "colab_type": "code",
        "id": "gbFY74-goFde",
        "outputId": "e45f67e6-b1da-4eb8-8463-641f09b8cd78"
      },
      "outputs": [
        {
          "data": {
            "text/plain": [
              "THEFT                         1245111\n",
              "BATTERY                       1079178\n",
              "CRIMINAL DAMAGE                702702\n",
              "NARCOTICS                      674831\n",
              "BURGLARY                       369056\n",
              "OTHER OFFENSE                  368169\n",
              "ASSAULT                        360244\n",
              "MOTOR VEHICLE THEFT            271624\n",
              "ROBBERY                        229467\n",
              "DECEPTIVE PRACTICE             225180\n",
              "CRIMINAL TRESPASS              171596\n",
              "PROSTITUTION                    60735\n",
              "WEAPONS VIOLATION               60335\n",
              "PUBLIC PEACE VIOLATION          48403\n",
              "OFFENSE INVOLVING CHILDREN      40260\n",
              "Name: Primary Type, dtype: int64"
            ]
          },
          "execution_count": 20,
          "metadata": {
            "tags": []
          },
          "output_type": "execute_result"
        }
      ],
      "source": [
        "# Retrieving the Top 15 Cases by Count in the 'Primary Type' Column\n",
        "chicago_df['Primary Type'].value_counts().iloc[:15]\n"
      ]
    },
    {
      "cell_type": "code",
      "execution_count": null,
      "metadata": {
        "colab": {},
        "colab_type": "code",
        "id": "sdfkvaZLM82p"
      },
      "outputs": [],
      "source": [
        "# Obtaining the Indices of the Top 15 Cases\n",
        "order_data = chicago_df['Primary Type'].value_counts().iloc[:15].index\n"
      ]
    },
    {
      "cell_type": "code",
      "execution_count": null,
      "metadata": {
        "colab": {
          "base_uri": "https://localhost:8080/",
          "height": 525
        },
        "colab_type": "code",
        "id": "ut9zo9_rosGH",
        "outputId": "3ea61d6c-f1b2-4257-874c-992a487416dd"
      },
      "outputs": [
        {
          "data": {
            "text/plain": [
              "<matplotlib.axes._subplots.AxesSubplot at 0x7fe398df9240>"
            ]
          },
          "execution_count": 22,
          "metadata": {
            "tags": []
          },
          "output_type": "execute_result"
        },
        {
          "data": {
            "image/png": "[encoded data removed]",
            "text/plain": [
              "<Figure size 1080x720 with 1 Axes>"
            ]
          },
          "metadata": {
            "tags": []
          },
          "output_type": "display_data"
        }
      ],
      "source": [
        "# Creating a Bar Plot for the Top 15 Cases\n",
        "plt.figure(figsize=(15,10))\n",
        "sns.countplot(y='Primary Type', data=chicago_df, order = order_data)\n"
      ]
    },
    {
      "cell_type": "code",
      "execution_count": null,
      "metadata": {
        "colab": {
          "base_uri": "https://localhost:8080/",
          "height": 515
        },
        "colab_type": "code",
        "id": "sbj4e-QCyKxT",
        "outputId": "f3be3d69-0def-4768-f8d1-dff9a5d652cc"
      },
      "outputs": [
        {
          "data": {
            "text/plain": [
              "<matplotlib.axes._subplots.AxesSubplot at 0x7fe3994d8eb8>"
            ]
          },
          "execution_count": 23,
          "metadata": {
            "tags": []
          },
          "output_type": "execute_result"
        },
        {
          "data": {
            "image/png": "[encoded data removed]",
            "text/plain": [
              "<Figure size 1080x720 with 1 Axes>"
            ]
          },
          "metadata": {
            "tags": []
          },
          "output_type": "display_data"
        }
      ],
      "source": [
        "# Creating a Bar Plot for the Top 15 Locations of Crimes\n",
        "plt.figure(figsize=(15, 10))\n",
        "sns.countplot(y='Location Description', data=chicago_df, order=chicago_df['Location Description'].value_counts().iloc[:15].index)\n"
      ]
    },
    {
      "cell_type": "code",
      "execution_count": null,
      "metadata": {
        "colab": {
          "base_uri": "https://localhost:8080/",
          "height": 277
        },
        "colab_type": "code",
        "id": "TgCfbPBEyKxY",
        "outputId": "9fddeda6-f01c-4ace-d6ff-98f80cd04bde"
      },
      "outputs": [
        {
          "data": {
            "text/plain": [
              "Date\n",
              "2005-12-31    455811\n",
              "2006-12-31    794684\n",
              "2007-12-31    621848\n",
              "2008-12-31    852053\n",
              "2009-12-31    783900\n",
              "2010-12-31    700691\n",
              "2011-12-31    352066\n",
              "2012-12-31    335670\n",
              "2013-12-31    306703\n",
              "2014-12-31    274527\n",
              "2015-12-31    262995\n",
              "2016-12-31    265462\n",
              "2017-12-31     11357\n",
              "Freq: A-DEC, dtype: int64"
            ]
          },
          "execution_count": 24,
          "metadata": {
            "tags": []
          },
          "output_type": "execute_result"
        }
      ],
      "source": [
        "# Counting the Number of Crimes Occurring in Each Year\n",
        "chicago_df.resample('Y').size()\n",
        "\n",
        "# The 'resample' function is a convenient method for frequency conversion and resampling of time series data.\n"
      ]
    },
    {
      "cell_type": "code",
      "execution_count": null,
      "metadata": {
        "colab": {
          "base_uri": "https://localhost:8080/",
          "height": 313
        },
        "colab_type": "code",
        "id": "DcvWh3aayKxg",
        "outputId": "7fb42a59-3d6a-4fd5-f1fb-7d903097c3e7"
      },
      "outputs": [
        {
          "data": {
            "text/plain": [
              "Text(0, 0.5, 'Number of Crimes')"
            ]
          },
          "execution_count": 25,
          "metadata": {
            "tags": []
          },
          "output_type": "execute_result"
        },
        {
          "data": {
            "image/png": "[encoded data removed]",
            "text/plain": [
              "<Figure size 432x288 with 1 Axes>"
            ]
          },
          "metadata": {
            "tags": []
          },
          "output_type": "display_data"
        }
      ],
      "source": [
        "# Plotting the Number of Crimes Occurring Each Year\n",
        "plt.plot(chicago_df.resample('Y').size())\n",
        "plt.title('Crimes Count Per Year')\n",
        "plt.xlabel('Years')\n",
        "plt.ylabel('Number of Crimes')\n"
      ]
    },
    {
      "cell_type": "code",
      "execution_count": null,
      "metadata": {
        "colab": {
          "base_uri": "https://localhost:8080/",
          "height": 243
        },
        "colab_type": "code",
        "id": "bs6s7PejyKxl",
        "outputId": "f57729b8-eb50-4997-e503-0017533c64d3"
      },
      "outputs": [
        {
          "data": {
            "text/plain": [
              "Date\n",
              "2005-01-31    33983\n",
              "2005-02-28    32042\n",
              "2005-03-31    36970\n",
              "2005-04-30    38963\n",
              "2005-05-31    40572\n",
              "              ...  \n",
              "2016-09-30    23235\n",
              "2016-10-31    23314\n",
              "2016-11-30    21140\n",
              "2016-12-31    19580\n",
              "2017-01-31    11357\n",
              "Freq: M, Length: 145, dtype: int64"
            ]
          },
          "execution_count": 26,
          "metadata": {
            "tags": []
          },
          "output_type": "execute_result"
        }
      ],
      "source": [
        "chicago_df.resample('M').size()\n"
      ]
    },
    {
      "cell_type": "code",
      "execution_count": null,
      "metadata": {
        "colab": {
          "base_uri": "https://localhost:8080/",
          "height": 313
        },
        "colab_type": "code",
        "id": "mENNsaC8yKxo",
        "outputId": "c550ebdc-4cc8-4420-b5af-ae141d204a66"
      },
      "outputs": [
        {
          "data": {
            "text/plain": [
              "Text(0, 0.5, 'Number of Crimes')"
            ]
          },
          "execution_count": 27,
          "metadata": {
            "tags": []
          },
          "output_type": "execute_result"
        },
        {
          "data": {
            "image/png": "[encoded data removed]",
            "text/plain": [
              "<Figure size 432x288 with 1 Axes>"
            ]
          },
          "metadata": {
            "tags": []
          },
          "output_type": "display_data"
        }
      ],
      "source": [
        "plt.plot(chicago_df.resample('M').size())\n",
        "plt.title('Crimes Count Per Month')\n",
        "plt.xlabel('Months')\n",
        "plt.ylabel('Number of Crimes')\n"
      ]
    },
    {
      "cell_type": "code",
      "execution_count": null,
      "metadata": {
        "colab": {
          "base_uri": "https://localhost:8080/",
          "height": 901
        },
        "colab_type": "code",
        "id": "lksIY19TyKxr",
        "outputId": "78941f2e-66ef-4988-94c9-03a166739ec7"
      },
      "outputs": [
        {
          "data": {
            "text/plain": [
              "Date\n",
              "2005-03-31    102995\n",
              "2005-06-30    119769\n",
              "2005-09-30    123550\n",
              "2005-12-31    109497\n",
              "2006-03-31    115389\n",
              "2006-06-30    225489\n",
              "2006-09-30    238423\n",
              "2006-12-31    215383\n",
              "2007-03-31    192791\n",
              "2007-06-30    204361\n",
              "2007-09-30    119086\n",
              "2007-12-31    105610\n",
              "2008-03-31    191523\n",
              "2008-06-30    222331\n",
              "2008-09-30    236695\n",
              "2008-12-31    201504\n",
              "2009-03-31    184055\n",
              "2009-06-30    203916\n",
              "2009-09-30    210446\n",
              "2009-12-31    185483\n",
              "2010-03-31    171848\n",
              "2010-06-30    194453\n",
              "2010-09-30    197116\n",
              "2010-12-31    137274\n",
              "2011-03-31     78167\n",
              "2011-06-30     93064\n",
              "2011-09-30     95835\n",
              "2011-12-31     85000\n",
              "2012-03-31     78574\n",
              "2012-06-30     88283\n",
              "2012-09-30     89685\n",
              "2012-12-31     79128\n",
              "2013-03-31     71651\n",
              "2013-06-30     80776\n",
              "2013-09-30     83510\n",
              "2013-12-31     70766\n",
              "2014-03-31     59964\n",
              "2014-06-30     72991\n",
              "2014-09-30     76090\n",
              "2014-12-31     65482\n",
              "2015-03-31     58503\n",
              "2015-06-30     68239\n",
              "2015-09-30     71782\n",
              "2015-12-31     64471\n",
              "2016-03-31     60843\n",
              "2016-06-30     68085\n",
              "2016-09-30     72500\n",
              "2016-12-31     64034\n",
              "2017-03-31     11357\n",
              "Freq: Q-DEC, dtype: int64"
            ]
          },
          "execution_count": 28,
          "metadata": {
            "tags": []
          },
          "output_type": "execute_result"
        }
      ],
      "source": [
        "chicago_df.resample('Q').size()\n"
      ]
    },
    {
      "cell_type": "code",
      "execution_count": null,
      "metadata": {
        "colab": {
          "base_uri": "https://localhost:8080/",
          "height": 313
        },
        "colab_type": "code",
        "id": "_vHreT9RyKxt",
        "outputId": "7248311f-869a-424e-9376-e6be26462a1e"
      },
      "outputs": [
        {
          "data": {
            "text/plain": [
              "Text(0, 0.5, 'Number of Crimes')"
            ]
          },
          "execution_count": 29,
          "metadata": {
            "tags": []
          },
          "output_type": "execute_result"
        },
        {
          "data": {
            "image/png": "[encoded data removed]",
            "text/plain": [
              "<Figure size 432x288 with 1 Axes>"
            ]
          },
          "metadata": {
            "tags": []
          },
          "output_type": "display_data"
        }
      ],
      "source": [
        "plt.plot(chicago_df.resample('Q').size())\n",
        "plt.title('Crimes Count Per Quarter')\n",
        "plt.xlabel('Quarters')\n",
        "plt.ylabel('Number of Crimes')\n"
      ]
    },
    {
      "cell_type": "markdown",
      "metadata": {
        "colab_type": "text",
        "id": "XXVCQrycyKxw"
      },
      "source": [
        "# Preparing the Data for Prophet"
      ]
    },
    {
      "cell_type": "code",
      "execution_count": null,
      "metadata": {
        "colab": {},
        "colab_type": "code",
        "id": "vOED3m3dyKxy"
      },
      "outputs": [],
      "source": [
        "# Performing data quality enhancement by setting the index\n",
        "chicago_prophet = chicago_df.resample('M').size().reset_index()\n"
      ]
    },
    {
      "cell_type": "code",
      "execution_count": null,
      "metadata": {
        "colab": {
          "base_uri": "https://localhost:8080/",
          "height": 415
        },
        "colab_type": "code",
        "id": "uDKP1-IPyKx6",
        "outputId": "68d085e9-3748-4d11-df92-72b17839dedc"
      },
      "outputs": [
        {
          "data": {
            "text/html": [
              "<div>\n",
              "<style scoped>\n",
              "    .dataframe tbody tr th:only-of-type {\n",
              "        vertical-align: middle;\n",
              "    }\n",
              "\n",
              "    .dataframe tbody tr th {\n",
              "        vertical-align: top;\n",
              "    }\n",
              "\n",
              "    .dataframe thead th {\n",
              "        text-align: right;\n",
              "    }\n",
              "</style>\n",
              "<table border=\"1\" class=\"dataframe\">\n",
              "  <thead>\n",
              "    <tr style=\"text-align: right;\">\n",
              "      <th></th>\n",
              "      <th>Date</th>\n",
              "      <th>0</th>\n",
              "    </tr>\n",
              "  </thead>\n",
              "  <tbody>\n",
              "    <tr>\n",
              "      <th>0</th>\n",
              "      <td>2005-01-31</td>\n",
              "      <td>33983</td>\n",
              "    </tr>\n",
              "    <tr>\n",
              "      <th>1</th>\n",
              "      <td>2005-02-28</td>\n",
              "      <td>32042</td>\n",
              "    </tr>\n",
              "    <tr>\n",
              "      <th>2</th>\n",
              "      <td>2005-03-31</td>\n",
              "      <td>36970</td>\n",
              "    </tr>\n",
              "    <tr>\n",
              "      <th>3</th>\n",
              "      <td>2005-04-30</td>\n",
              "      <td>38963</td>\n",
              "    </tr>\n",
              "    <tr>\n",
              "      <th>4</th>\n",
              "      <td>2005-05-31</td>\n",
              "      <td>40572</td>\n",
              "    </tr>\n",
              "    <tr>\n",
              "      <th>...</th>\n",
              "      <td>...</td>\n",
              "      <td>...</td>\n",
              "    </tr>\n",
              "    <tr>\n",
              "      <th>140</th>\n",
              "      <td>2016-09-30</td>\n",
              "      <td>23235</td>\n",
              "    </tr>\n",
              "    <tr>\n",
              "      <th>141</th>\n",
              "      <td>2016-10-31</td>\n",
              "      <td>23314</td>\n",
              "    </tr>\n",
              "    <tr>\n",
              "      <th>142</th>\n",
              "      <td>2016-11-30</td>\n",
              "      <td>21140</td>\n",
              "    </tr>\n",
              "    <tr>\n",
              "      <th>143</th>\n",
              "      <td>2016-12-31</td>\n",
              "      <td>19580</td>\n",
              "    </tr>\n",
              "    <tr>\n",
              "      <th>144</th>\n",
              "      <td>2017-01-31</td>\n",
              "      <td>11357</td>\n",
              "    </tr>\n",
              "  </tbody>\n",
              "</table>\n",
              "<p>145 rows × 2 columns</p>\n",
              "</div>"
            ],
            "text/plain": [
              "          Date      0\n",
              "0   2005-01-31  33983\n",
              "1   2005-02-28  32042\n",
              "2   2005-03-31  36970\n",
              "3   2005-04-30  38963\n",
              "4   2005-05-31  40572\n",
              "..         ...    ...\n",
              "140 2016-09-30  23235\n",
              "141 2016-10-31  23314\n",
              "142 2016-11-30  21140\n",
              "143 2016-12-31  19580\n",
              "144 2017-01-31  11357\n",
              "\n",
              "[145 rows x 2 columns]"
            ]
          },
          "execution_count": 31,
          "metadata": {
            "tags": []
          },
          "output_type": "execute_result"
        }
      ],
      "source": [
        "chicago_prophet"
      ]
    },
    {
      "cell_type": "code",
      "execution_count": null,
      "metadata": {
        "colab": {},
        "colab_type": "code",
        "id": "gsOW72KVyKx9"
      },
      "outputs": [],
      "source": [
        "chicago_prophet.columns = ['Date', 'Crime Count']"
      ]
    },
    {
      "cell_type": "code",
      "execution_count": null,
      "metadata": {
        "colab": {
          "base_uri": "https://localhost:8080/",
          "height": 415
        },
        "colab_type": "code",
        "id": "7yVe77TtyKyB",
        "outputId": "b829bc09-0bbf-4055-ab9b-4cd18b3ab1c9"
      },
      "outputs": [
        {
          "data": {
            "text/html": [
              "<div>\n",
              "<style scoped>\n",
              "    .dataframe tbody tr th:only-of-type {\n",
              "        vertical-align: middle;\n",
              "    }\n",
              "\n",
              "    .dataframe tbody tr th {\n",
              "        vertical-align: top;\n",
              "    }\n",
              "\n",
              "    .dataframe thead th {\n",
              "        text-align: right;\n",
              "    }\n",
              "</style>\n",
              "<table border=\"1\" class=\"dataframe\">\n",
              "  <thead>\n",
              "    <tr style=\"text-align: right;\">\n",
              "      <th></th>\n",
              "      <th>Date</th>\n",
              "      <th>Crime Count</th>\n",
              "    </tr>\n",
              "  </thead>\n",
              "  <tbody>\n",
              "    <tr>\n",
              "      <th>0</th>\n",
              "      <td>2005-01-31</td>\n",
              "      <td>33983</td>\n",
              "    </tr>\n",
              "    <tr>\n",
              "      <th>1</th>\n",
              "      <td>2005-02-28</td>\n",
              "      <td>32042</td>\n",
              "    </tr>\n",
              "    <tr>\n",
              "      <th>2</th>\n",
              "      <td>2005-03-31</td>\n",
              "      <td>36970</td>\n",
              "    </tr>\n",
              "    <tr>\n",
              "      <th>3</th>\n",
              "      <td>2005-04-30</td>\n",
              "      <td>38963</td>\n",
              "    </tr>\n",
              "    <tr>\n",
              "      <th>4</th>\n",
              "      <td>2005-05-31</td>\n",
              "      <td>40572</td>\n",
              "    </tr>\n",
              "    <tr>\n",
              "      <th>...</th>\n",
              "      <td>...</td>\n",
              "      <td>...</td>\n",
              "    </tr>\n",
              "    <tr>\n",
              "      <th>140</th>\n",
              "      <td>2016-09-30</td>\n",
              "      <td>23235</td>\n",
              "    </tr>\n",
              "    <tr>\n",
              "      <th>141</th>\n",
              "      <td>2016-10-31</td>\n",
              "      <td>23314</td>\n",
              "    </tr>\n",
              "    <tr>\n",
              "      <th>142</th>\n",
              "      <td>2016-11-30</td>\n",
              "      <td>21140</td>\n",
              "    </tr>\n",
              "    <tr>\n",
              "      <th>143</th>\n",
              "      <td>2016-12-31</td>\n",
              "      <td>19580</td>\n",
              "    </tr>\n",
              "    <tr>\n",
              "      <th>144</th>\n",
              "      <td>2017-01-31</td>\n",
              "      <td>11357</td>\n",
              "    </tr>\n",
              "  </tbody>\n",
              "</table>\n",
              "<p>145 rows × 2 columns</p>\n",
              "</div>"
            ],
            "text/plain": [
              "          Date  Crime Count\n",
              "0   2005-01-31        33983\n",
              "1   2005-02-28        32042\n",
              "2   2005-03-31        36970\n",
              "3   2005-04-30        38963\n",
              "4   2005-05-31        40572\n",
              "..         ...          ...\n",
              "140 2016-09-30        23235\n",
              "141 2016-10-31        23314\n",
              "142 2016-11-30        21140\n",
              "143 2016-12-31        19580\n",
              "144 2017-01-31        11357\n",
              "\n",
              "[145 rows x 2 columns]"
            ]
          },
          "execution_count": 33,
          "metadata": {
            "tags": []
          },
          "output_type": "execute_result"
        }
      ],
      "source": [
        "chicago_prophet"
      ]
    },
    {
      "cell_type": "code",
      "execution_count": null,
      "metadata": {
        "colab": {},
        "colab_type": "code",
        "id": "kJ18Rp6wyKyE"
      },
      "outputs": [],
      "source": [
        "chicago_prophet_df = pd.DataFrame(chicago_prophet)"
      ]
    },
    {
      "cell_type": "code",
      "execution_count": null,
      "metadata": {
        "colab": {
          "base_uri": "https://localhost:8080/",
          "height": 415
        },
        "colab_type": "code",
        "id": "4_xuBhysyKyI",
        "outputId": "6f1e2218-f59b-4c82-9e72-7338bd9903e0"
      },
      "outputs": [
        {
          "data": {
            "text/html": [
              "<div>\n",
              "<style scoped>\n",
              "    .dataframe tbody tr th:only-of-type {\n",
              "        vertical-align: middle;\n",
              "    }\n",
              "\n",
              "    .dataframe tbody tr th {\n",
              "        vertical-align: top;\n",
              "    }\n",
              "\n",
              "    .dataframe thead th {\n",
              "        text-align: right;\n",
              "    }\n",
              "</style>\n",
              "<table border=\"1\" class=\"dataframe\">\n",
              "  <thead>\n",
              "    <tr style=\"text-align: right;\">\n",
              "      <th></th>\n",
              "      <th>Date</th>\n",
              "      <th>Crime Count</th>\n",
              "    </tr>\n",
              "  </thead>\n",
              "  <tbody>\n",
              "    <tr>\n",
              "      <th>0</th>\n",
              "      <td>2005-01-31</td>\n",
              "      <td>33983</td>\n",
              "    </tr>\n",
              "    <tr>\n",
              "      <th>1</th>\n",
              "      <td>2005-02-28</td>\n",
              "      <td>32042</td>\n",
              "    </tr>\n",
              "    <tr>\n",
              "      <th>2</th>\n",
              "      <td>2005-03-31</td>\n",
              "      <td>36970</td>\n",
              "    </tr>\n",
              "    <tr>\n",
              "      <th>3</th>\n",
              "      <td>2005-04-30</td>\n",
              "      <td>38963</td>\n",
              "    </tr>\n",
              "    <tr>\n",
              "      <th>4</th>\n",
              "      <td>2005-05-31</td>\n",
              "      <td>40572</td>\n",
              "    </tr>\n",
              "    <tr>\n",
              "      <th>...</th>\n",
              "      <td>...</td>\n",
              "      <td>...</td>\n",
              "    </tr>\n",
              "    <tr>\n",
              "      <th>140</th>\n",
              "      <td>2016-09-30</td>\n",
              "      <td>23235</td>\n",
              "    </tr>\n",
              "    <tr>\n",
              "      <th>141</th>\n",
              "      <td>2016-10-31</td>\n",
              "      <td>23314</td>\n",
              "    </tr>\n",
              "    <tr>\n",
              "      <th>142</th>\n",
              "      <td>2016-11-30</td>\n",
              "      <td>21140</td>\n",
              "    </tr>\n",
              "    <tr>\n",
              "      <th>143</th>\n",
              "      <td>2016-12-31</td>\n",
              "      <td>19580</td>\n",
              "    </tr>\n",
              "    <tr>\n",
              "      <th>144</th>\n",
              "      <td>2017-01-31</td>\n",
              "      <td>11357</td>\n",
              "    </tr>\n",
              "  </tbody>\n",
              "</table>\n",
              "<p>145 rows × 2 columns</p>\n",
              "</div>"
            ],
            "text/plain": [
              "          Date  Crime Count\n",
              "0   2005-01-31        33983\n",
              "1   2005-02-28        32042\n",
              "2   2005-03-31        36970\n",
              "3   2005-04-30        38963\n",
              "4   2005-05-31        40572\n",
              "..         ...          ...\n",
              "140 2016-09-30        23235\n",
              "141 2016-10-31        23314\n",
              "142 2016-11-30        21140\n",
              "143 2016-12-31        19580\n",
              "144 2017-01-31        11357\n",
              "\n",
              "[145 rows x 2 columns]"
            ]
          },
          "execution_count": 35,
          "metadata": {
            "tags": []
          },
          "output_type": "execute_result"
        }
      ],
      "source": [
        "chicago_prophet_df"
      ]
    },
    {
      "cell_type": "markdown",
      "metadata": {
        "colab_type": "text",
        "id": "HbX7w-iFyKyL"
      },
      "source": [
        "# Generating Future Predictions with Prophet\n"
      ]
    },
    {
      "cell_type": "code",
      "execution_count": null,
      "metadata": {
        "colab": {
          "base_uri": "https://localhost:8080/",
          "height": 35
        },
        "colab_type": "code",
        "id": "3UNY6fiDyKyL",
        "outputId": "90f70422-46ac-4104-fa19-2eb79a5474fe"
      },
      "outputs": [
        {
          "data": {
            "text/plain": [
              "Index(['Date', 'Crime Count'], dtype='object')"
            ]
          },
          "execution_count": 36,
          "metadata": {
            "tags": []
          },
          "output_type": "execute_result"
        }
      ],
      "source": [
        "chicago_prophet_df.columns"
      ]
    },
    {
      "cell_type": "code",
      "execution_count": null,
      "metadata": {
        "colab": {},
        "colab_type": "code",
        "id": "zDvVOVXwyKyO"
      },
      "outputs": [],
      "source": [
        "# Renaming the columns to 'ds' and 'y' format for Facebook Prophet\n",
        "# Formatting the date to 'M' (Monthly) for implementation\n",
        "chicago_prophet_df_final = chicago_prophet_df.rename(columns={'Date':'ds', 'Crime Count':'y'})\n"
      ]
    },
    {
      "cell_type": "code",
      "execution_count": null,
      "metadata": {
        "colab": {
          "base_uri": "https://localhost:8080/",
          "height": 415
        },
        "colab_type": "code",
        "id": "7mFyjUMMyKyR",
        "outputId": "80eb1ae3-65de-4e05-cdc6-d8fe828bf2c7"
      },
      "outputs": [
        {
          "data": {
            "text/html": [
              "<div>\n",
              "<style scoped>\n",
              "    .dataframe tbody tr th:only-of-type {\n",
              "        vertical-align: middle;\n",
              "    }\n",
              "\n",
              "    .dataframe tbody tr th {\n",
              "        vertical-align: top;\n",
              "    }\n",
              "\n",
              "    .dataframe thead th {\n",
              "        text-align: right;\n",
              "    }\n",
              "</style>\n",
              "<table border=\"1\" class=\"dataframe\">\n",
              "  <thead>\n",
              "    <tr style=\"text-align: right;\">\n",
              "      <th></th>\n",
              "      <th>ds</th>\n",
              "      <th>y</th>\n",
              "    </tr>\n",
              "  </thead>\n",
              "  <tbody>\n",
              "    <tr>\n",
              "      <th>0</th>\n",
              "      <td>2005-01-31</td>\n",
              "      <td>33983</td>\n",
              "    </tr>\n",
              "    <tr>\n",
              "      <th>1</th>\n",
              "      <td>2005-02-28</td>\n",
              "      <td>32042</td>\n",
              "    </tr>\n",
              "    <tr>\n",
              "      <th>2</th>\n",
              "      <td>2005-03-31</td>\n",
              "      <td>36970</td>\n",
              "    </tr>\n",
              "    <tr>\n",
              "      <th>3</th>\n",
              "      <td>2005-04-30</td>\n",
              "      <td>38963</td>\n",
              "    </tr>\n",
              "    <tr>\n",
              "      <th>4</th>\n",
              "      <td>2005-05-31</td>\n",
              "      <td>40572</td>\n",
              "    </tr>\n",
              "    <tr>\n",
              "      <th>...</th>\n",
              "      <td>...</td>\n",
              "      <td>...</td>\n",
              "    </tr>\n",
              "    <tr>\n",
              "      <th>140</th>\n",
              "      <td>2016-09-30</td>\n",
              "      <td>23235</td>\n",
              "    </tr>\n",
              "    <tr>\n",
              "      <th>141</th>\n",
              "      <td>2016-10-31</td>\n",
              "      <td>23314</td>\n",
              "    </tr>\n",
              "    <tr>\n",
              "      <th>142</th>\n",
              "      <td>2016-11-30</td>\n",
              "      <td>21140</td>\n",
              "    </tr>\n",
              "    <tr>\n",
              "      <th>143</th>\n",
              "      <td>2016-12-31</td>\n",
              "      <td>19580</td>\n",
              "    </tr>\n",
              "    <tr>\n",
              "      <th>144</th>\n",
              "      <td>2017-01-31</td>\n",
              "      <td>11357</td>\n",
              "    </tr>\n",
              "  </tbody>\n",
              "</table>\n",
              "<p>145 rows × 2 columns</p>\n",
              "</div>"
            ],
            "text/plain": [
              "            ds      y\n",
              "0   2005-01-31  33983\n",
              "1   2005-02-28  32042\n",
              "2   2005-03-31  36970\n",
              "3   2005-04-30  38963\n",
              "4   2005-05-31  40572\n",
              "..         ...    ...\n",
              "140 2016-09-30  23235\n",
              "141 2016-10-31  23314\n",
              "142 2016-11-30  21140\n",
              "143 2016-12-31  19580\n",
              "144 2017-01-31  11357\n",
              "\n",
              "[145 rows x 2 columns]"
            ]
          },
          "execution_count": 41,
          "metadata": {
            "tags": []
          },
          "output_type": "execute_result"
        }
      ],
      "source": [
        "chicago_prophet_df_final"
      ]
    },
    {
      "cell_type": "code",
      "execution_count": null,
      "metadata": {
        "colab": {
          "base_uri": "https://localhost:8080/",
          "height": 69
        },
        "colab_type": "code",
        "id": "-J5D6Pf6yKyU",
        "outputId": "4d0c7b94-2634-4c11-b471-cf820a92685e"
      },
      "outputs": [
        {
          "name": "stderr",
          "output_type": "stream",
          "text": [
            "INFO:fbprophet:Disabling weekly seasonality. Run prophet with weekly_seasonality=True to override this.\n",
            "INFO:fbprophet:Disabling daily seasonality. Run prophet with daily_seasonality=True to override this.\n"
          ]
        },
        {
          "data": {
            "text/plain": [
              "<fbprophet.forecaster.Prophet at 0x7fe398b2c400>"
            ]
          },
          "execution_count": 39,
          "metadata": {
            "tags": []
          },
          "output_type": "execute_result"
        }
      ],
      "source": [
        "# Instantiating a Prophet object\n",
        "prophet_model = Prophet()\n",
        "prophet_model.fit(chicago_prophet_df_final)\n"
      ]
    },
    {
      "cell_type": "code",
      "execution_count": null,
      "metadata": {
        "colab": {},
        "colab_type": "code",
        "id": "qQR_J-E5yKyX"
      },
      "outputs": [],
      "source": [
        "# Creating a future DataFrame for forecasting\n",
        "future = prophet_model.make_future_dataframe(periods=720)  # periods = the number of days for prediction\n",
        "forecast = prophet_model.predict(future)\n"
      ]
    },
    {
      "cell_type": "code",
      "execution_count": null,
      "metadata": {
        "colab": {
          "base_uri": "https://localhost:8080/",
          "height": 609
        },
        "colab_type": "code",
        "id": "3cLtKCJAyKya",
        "outputId": "653427f0-9da6-4b09-9217-ce37e3c80be3"
      },
      "outputs": [
        {
          "data": {
            "text/html": [
              "<div>\n",
              "<style scoped>\n",
              "    .dataframe tbody tr th:only-of-type {\n",
              "        vertical-align: middle;\n",
              "    }\n",
              "\n",
              "    .dataframe tbody tr th {\n",
              "        vertical-align: top;\n",
              "    }\n",
              "\n",
              "    .dataframe thead th {\n",
              "        text-align: right;\n",
              "    }\n",
              "</style>\n",
              "<table border=\"1\" class=\"dataframe\">\n",
              "  <thead>\n",
              "    <tr style=\"text-align: right;\">\n",
              "      <th></th>\n",
              "      <th>ds</th>\n",
              "      <th>trend</th>\n",
              "      <th>yhat_lower</th>\n",
              "      <th>yhat_upper</th>\n",
              "      <th>trend_lower</th>\n",
              "      <th>trend_upper</th>\n",
              "      <th>additive_terms</th>\n",
              "      <th>additive_terms_lower</th>\n",
              "      <th>additive_terms_upper</th>\n",
              "      <th>yearly</th>\n",
              "      <th>yearly_lower</th>\n",
              "      <th>yearly_upper</th>\n",
              "      <th>multiplicative_terms</th>\n",
              "      <th>multiplicative_terms_lower</th>\n",
              "      <th>multiplicative_terms_upper</th>\n",
              "      <th>yhat</th>\n",
              "    </tr>\n",
              "  </thead>\n",
              "  <tbody>\n",
              "    <tr>\n",
              "      <th>0</th>\n",
              "      <td>2005-01-31</td>\n",
              "      <td>60454.736755</td>\n",
              "      <td>39573.592311</td>\n",
              "      <td>72147.031205</td>\n",
              "      <td>60454.736755</td>\n",
              "      <td>60454.736755</td>\n",
              "      <td>-4762.400048</td>\n",
              "      <td>-4762.400048</td>\n",
              "      <td>-4762.400048</td>\n",
              "      <td>-4762.400048</td>\n",
              "      <td>-4762.400048</td>\n",
              "      <td>-4762.400048</td>\n",
              "      <td>0.0</td>\n",
              "      <td>0.0</td>\n",
              "      <td>0.0</td>\n",
              "      <td>55692.336707</td>\n",
              "    </tr>\n",
              "    <tr>\n",
              "      <th>1</th>\n",
              "      <td>2005-02-28</td>\n",
              "      <td>60322.333828</td>\n",
              "      <td>34647.047189</td>\n",
              "      <td>67613.163141</td>\n",
              "      <td>60322.333828</td>\n",
              "      <td>60322.333828</td>\n",
              "      <td>-9500.508891</td>\n",
              "      <td>-9500.508891</td>\n",
              "      <td>-9500.508891</td>\n",
              "      <td>-9500.508891</td>\n",
              "      <td>-9500.508891</td>\n",
              "      <td>-9500.508891</td>\n",
              "      <td>0.0</td>\n",
              "      <td>0.0</td>\n",
              "      <td>0.0</td>\n",
              "      <td>50821.824937</td>\n",
              "    </tr>\n",
              "    <tr>\n",
              "      <th>2</th>\n",
              "      <td>2005-03-31</td>\n",
              "      <td>60175.744873</td>\n",
              "      <td>42031.565783</td>\n",
              "      <td>75825.219109</td>\n",
              "      <td>60175.744873</td>\n",
              "      <td>60175.744873</td>\n",
              "      <td>-1224.148242</td>\n",
              "      <td>-1224.148242</td>\n",
              "      <td>-1224.148242</td>\n",
              "      <td>-1224.148242</td>\n",
              "      <td>-1224.148242</td>\n",
              "      <td>-1224.148242</td>\n",
              "      <td>0.0</td>\n",
              "      <td>0.0</td>\n",
              "      <td>0.0</td>\n",
              "      <td>58951.596630</td>\n",
              "    </tr>\n",
              "    <tr>\n",
              "      <th>3</th>\n",
              "      <td>2005-04-30</td>\n",
              "      <td>60033.884593</td>\n",
              "      <td>45453.354838</td>\n",
              "      <td>77897.902534</td>\n",
              "      <td>60033.884593</td>\n",
              "      <td>60033.884593</td>\n",
              "      <td>1182.830385</td>\n",
              "      <td>1182.830385</td>\n",
              "      <td>1182.830385</td>\n",
              "      <td>1182.830385</td>\n",
              "      <td>1182.830385</td>\n",
              "      <td>1182.830385</td>\n",
              "      <td>0.0</td>\n",
              "      <td>0.0</td>\n",
              "      <td>0.0</td>\n",
              "      <td>61216.714978</td>\n",
              "    </tr>\n",
              "    <tr>\n",
              "      <th>4</th>\n",
              "      <td>2005-05-31</td>\n",
              "      <td>59887.295638</td>\n",
              "      <td>49314.203572</td>\n",
              "      <td>82762.570961</td>\n",
              "      <td>59887.295638</td>\n",
              "      <td>59887.295638</td>\n",
              "      <td>5498.250108</td>\n",
              "      <td>5498.250108</td>\n",
              "      <td>5498.250108</td>\n",
              "      <td>5498.250108</td>\n",
              "      <td>5498.250108</td>\n",
              "      <td>5498.250108</td>\n",
              "      <td>0.0</td>\n",
              "      <td>0.0</td>\n",
              "      <td>0.0</td>\n",
              "      <td>65385.545746</td>\n",
              "    </tr>\n",
              "    <tr>\n",
              "      <th>...</th>\n",
              "      <td>...</td>\n",
              "      <td>...</td>\n",
              "      <td>...</td>\n",
              "      <td>...</td>\n",
              "      <td>...</td>\n",
              "      <td>...</td>\n",
              "      <td>...</td>\n",
              "      <td>...</td>\n",
              "      <td>...</td>\n",
              "      <td>...</td>\n",
              "      <td>...</td>\n",
              "      <td>...</td>\n",
              "      <td>...</td>\n",
              "      <td>...</td>\n",
              "      <td>...</td>\n",
              "      <td>...</td>\n",
              "    </tr>\n",
              "    <tr>\n",
              "      <th>860</th>\n",
              "      <td>2019-01-17</td>\n",
              "      <td>5465.369009</td>\n",
              "      <td>-17026.416031</td>\n",
              "      <td>15377.873933</td>\n",
              "      <td>4980.189705</td>\n",
              "      <td>5907.861918</td>\n",
              "      <td>-5243.415089</td>\n",
              "      <td>-5243.415089</td>\n",
              "      <td>-5243.415089</td>\n",
              "      <td>-5243.415089</td>\n",
              "      <td>-5243.415089</td>\n",
              "      <td>-5243.415089</td>\n",
              "      <td>0.0</td>\n",
              "      <td>0.0</td>\n",
              "      <td>0.0</td>\n",
              "      <td>221.953920</td>\n",
              "    </tr>\n",
              "    <tr>\n",
              "      <th>861</th>\n",
              "      <td>2019-01-18</td>\n",
              "      <td>5452.302325</td>\n",
              "      <td>-16526.048948</td>\n",
              "      <td>15829.059617</td>\n",
              "      <td>4966.223132</td>\n",
              "      <td>5895.681474</td>\n",
              "      <td>-5243.952208</td>\n",
              "      <td>-5243.952208</td>\n",
              "      <td>-5243.952208</td>\n",
              "      <td>-5243.952208</td>\n",
              "      <td>-5243.952208</td>\n",
              "      <td>-5243.952208</td>\n",
              "      <td>0.0</td>\n",
              "      <td>0.0</td>\n",
              "      <td>0.0</td>\n",
              "      <td>208.350118</td>\n",
              "    </tr>\n",
              "    <tr>\n",
              "      <th>862</th>\n",
              "      <td>2019-01-19</td>\n",
              "      <td>5439.235642</td>\n",
              "      <td>-16345.054194</td>\n",
              "      <td>17161.143311</td>\n",
              "      <td>4952.256560</td>\n",
              "      <td>5883.501029</td>\n",
              "      <td>-5241.167658</td>\n",
              "      <td>-5241.167658</td>\n",
              "      <td>-5241.167658</td>\n",
              "      <td>-5241.167658</td>\n",
              "      <td>-5241.167658</td>\n",
              "      <td>-5241.167658</td>\n",
              "      <td>0.0</td>\n",
              "      <td>0.0</td>\n",
              "      <td>0.0</td>\n",
              "      <td>198.067985</td>\n",
              "    </tr>\n",
              "    <tr>\n",
              "      <th>863</th>\n",
              "      <td>2019-01-20</td>\n",
              "      <td>5426.168959</td>\n",
              "      <td>-17390.620250</td>\n",
              "      <td>16377.327397</td>\n",
              "      <td>4938.289987</td>\n",
              "      <td>5871.320585</td>\n",
              "      <td>-5233.516084</td>\n",
              "      <td>-5233.516084</td>\n",
              "      <td>-5233.516084</td>\n",
              "      <td>-5233.516084</td>\n",
              "      <td>-5233.516084</td>\n",
              "      <td>-5233.516084</td>\n",
              "      <td>0.0</td>\n",
              "      <td>0.0</td>\n",
              "      <td>0.0</td>\n",
              "      <td>192.652875</td>\n",
              "    </tr>\n",
              "    <tr>\n",
              "      <th>864</th>\n",
              "      <td>2019-01-21</td>\n",
              "      <td>5413.102276</td>\n",
              "      <td>-16872.423408</td>\n",
              "      <td>15842.508211</td>\n",
              "      <td>4924.323414</td>\n",
              "      <td>5859.087890</td>\n",
              "      <td>-5219.752444</td>\n",
              "      <td>-5219.752444</td>\n",
              "      <td>-5219.752444</td>\n",
              "      <td>-5219.752444</td>\n",
              "      <td>-5219.752444</td>\n",
              "      <td>-5219.752444</td>\n",
              "      <td>0.0</td>\n",
              "      <td>0.0</td>\n",
              "      <td>0.0</td>\n",
              "      <td>193.349832</td>\n",
              "    </tr>\n",
              "  </tbody>\n",
              "</table>\n",
              "<p>865 rows × 16 columns</p>\n",
              "</div>"
            ],
            "text/plain": [
              "            ds         trend  ...  multiplicative_terms_upper          yhat\n",
              "0   2005-01-31  60454.736755  ...                         0.0  55692.336707\n",
              "1   2005-02-28  60322.333828  ...                         0.0  50821.824937\n",
              "2   2005-03-31  60175.744873  ...                         0.0  58951.596630\n",
              "3   2005-04-30  60033.884593  ...                         0.0  61216.714978\n",
              "4   2005-05-31  59887.295638  ...                         0.0  65385.545746\n",
              "..         ...           ...  ...                         ...           ...\n",
              "860 2019-01-17   5465.369009  ...                         0.0    221.953920\n",
              "861 2019-01-18   5452.302325  ...                         0.0    208.350118\n",
              "862 2019-01-19   5439.235642  ...                         0.0    198.067985\n",
              "863 2019-01-20   5426.168959  ...                         0.0    192.652875\n",
              "864 2019-01-21   5413.102276  ...                         0.0    193.349832\n",
              "\n",
              "[865 rows x 16 columns]"
            ]
          },
          "execution_count": 48,
          "metadata": {
            "tags": []
          },
          "output_type": "execute_result"
        }
      ],
      "source": [
        "forecast"
      ]
    },
    {
      "cell_type": "code",
      "execution_count": null,
      "metadata": {
        "colab": {
          "base_uri": "https://localhost:8080/",
          "height": 441
        },
        "colab_type": "code",
        "id": "25C9axHdyKyc",
        "outputId": "95f15809-6a06-44a2-ef6b-8ce9c3d5b0f7"
      },
      "outputs": [
        {
          "data": {
            "image/png": "[encoded data removed]",
            "text/plain": [
              "<Figure size 720x432 with 1 Axes>"
            ]
          },
          "metadata": {
            "tags": []
          },
          "output_type": "display_data"
        }
      ],
      "source": [
        "# Visualizing the future results\n",
        "figure = prophet_model.plot(forecast, xlabel='Date', ylabel='Crime Rate')\n"
      ]
    },
    {
      "cell_type": "code",
      "execution_count": null,
      "metadata": {
        "colab": {
          "base_uri": "https://localhost:8080/",
          "height": 441
        },
        "colab_type": "code",
        "id": "GtrRoFzmyKye",
        "outputId": "e548dc1a-b5b0-4771-ea0f-5ca820388d5f"
      },
      "outputs": [
        {
          "data": {
            "image/png": "[encoded data removed]",
            "text/plain": [
              "<Figure size 648x432 with 2 Axes>"
            ]
          },
          "metadata": {
            "tags": []
          },
          "output_type": "display_data"
        }
      ],
      "source": [
        "# Plotting the expected trend in the future\n",
        "figure3 = m.plot_components(forecast)\n"
      ]
    },
    {
      "cell_type": "markdown",
      "metadata": {
        "colab_type": "text",
        "id": "vxBPvxNf0cEJ"
      },
      "source": [
        "# End"
      ]
    }
  ],
  "metadata": {
    "colab": {
      "collapsed_sections": [],
      "machine_shape": "hm",
      "name": "Predict Crime Rate in Chicago.ipynb",
      "provenance": [],
      "toc_visible": true
    },
    "kernelspec": {
      "display_name": "Python 3",
      "language": "python",
      "name": "python3"
    },
    "language_info": {
      "codemirror_mode": {
        "name": "ipython",
        "version": 3
      },
      "file_extension": ".py",
      "mimetype": "text/x-python",
      "name": "python",
      "nbconvert_exporter": "python",
      "pygments_lexer": "ipython3",
      "version": "3.6.5"
    },
    "varInspector": {
      "cols": {
        "lenName": 16,
        "lenType": 16,
        "lenVar": 40
      },
      "kernels_config": {
        "python": {
          "delete_cmd_postfix": "",
          "delete_cmd_prefix": "del ",
          "library": "var_list.py",
          "varRefreshCmd": "print(var_dic_list())"
        },
        "r": {
          "delete_cmd_postfix": ") ",
          "delete_cmd_prefix": "rm(",
          "library": "var_list.r",
          "varRefreshCmd": "cat(var_dic_list()) "
        }
      },
      "types_to_exclude": [
        "module",
        "function",
        "builtin_function_or_method",
        "instance",
        "_Feature"
      ],
      "window_display": false
    }
  },
  "nbformat": 4,
  "nbformat_minor": 0
}
